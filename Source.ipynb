{
 "cells": [
  {
   "cell_type": "markdown",
   "id": "a9367c26",
   "metadata": {},
   "source": [
    "# Đồ án Lý thuyết Cuối Kỳ\n",
    "# Môn: Lập trình Khoa học Dữ liệu\n",
    "## Nhóm: 24"
   ]
  },
  {
   "cell_type": "markdown",
   "id": "8d8e1e3b",
   "metadata": {},
   "source": [
    "### Thành viên\n",
    "|<center><div style=\"width:150px\">MSSV</div><center>|<div style=\"width:290px\">Họ và tên</div>|\n",
    "|---------- |:-------------:|\n",
    "| <center>20120623<center>  |  Trần Thái Vỹ |\n",
    "| <center>21120035<center>  |  Nguyễn Hoài An |\n",
    "| <center>21120531<center>  |  Nguyễn Văn Phúc | "
   ]
  },
  {
   "cell_type": "markdown",
   "id": "c8a0bdad",
   "metadata": {},
   "source": [
    "# Import thư viện"
   ]
  },
  {
   "cell_type": "code",
   "execution_count": 1,
   "id": "aad08937",
   "metadata": {},
   "outputs": [],
   "source": [
    "import pandas as pd\n",
    "import matplotlib.pyplot as plt\n",
    "import numpy as np\n"
   ]
  },
  {
   "cell_type": "markdown",
   "id": "e3042342",
   "metadata": {},
   "source": [
    "# Thu thập dữ liệu"
   ]
  },
  {
   "cell_type": "markdown",
   "id": "90f91a0a",
   "metadata": {},
   "source": [
    "- Nhóm sử dụng dữ liệu \"FastFoodNutritionMenuV3.csv\" tại [Fast Food Nutrition](https://www.kaggle.com/datasets/joebeachcapital/fast-food)\n",
    "- Tập dữ liệu mô tả thành phần giá trị dinh dưỡng của các món ăn tại 6 cửa hàng thức ăn nhanh: \n",
    "    - McDonald's\n",
    "    - Burger King\n",
    "    - Wendy's\n",
    "    - KFC\n",
    "    - Taco Bell\n",
    "    - Pizza Hut\n",
    "- LICENSE của dữ liệu là [Database Contents License (DbCL) v1.0](https://opendatacommons.org/licenses/dbcl/1-0/), người dùng được phép sử dụng với mục đích phi thương mại.\n",
    "- Tác giả thu thập dữ liệu tại website [Food Nutrition Data](https://www.nutrition-charts.com/)."
   ]
  },
  {
   "cell_type": "markdown",
   "id": "232b06b7",
   "metadata": {},
   "source": [
    "### Đọc dữ liệu vào Dataframe `fastfood_df`"
   ]
  },
  {
   "cell_type": "code",
   "execution_count": 2,
   "id": "ad8e45ee",
   "metadata": {},
   "outputs": [
    {
     "data": {
      "text/html": [
       "<div>\n",
       "<style scoped>\n",
       "    .dataframe tbody tr th:only-of-type {\n",
       "        vertical-align: middle;\n",
       "    }\n",
       "\n",
       "    .dataframe tbody tr th {\n",
       "        vertical-align: top;\n",
       "    }\n",
       "\n",
       "    .dataframe thead th {\n",
       "        text-align: right;\n",
       "    }\n",
       "</style>\n",
       "<table border=\"1\" class=\"dataframe\">\n",
       "  <thead>\n",
       "    <tr style=\"text-align: right;\">\n",
       "      <th></th>\n",
       "      <th>Company</th>\n",
       "      <th>Item</th>\n",
       "      <th>Calories</th>\n",
       "      <th>Calories fromFat</th>\n",
       "      <th>Total Fat(g)</th>\n",
       "      <th>Saturated Fat(g)</th>\n",
       "      <th>Trans Fat(g)</th>\n",
       "      <th>Cholesterol(mg)</th>\n",
       "      <th>Sodium (mg)</th>\n",
       "      <th>Carbs(g)</th>\n",
       "      <th>Fiber(g)</th>\n",
       "      <th>Sugars(g)</th>\n",
       "      <th>Protein(g)</th>\n",
       "      <th>Weight WatchersPnts</th>\n",
       "    </tr>\n",
       "  </thead>\n",
       "  <tbody>\n",
       "    <tr>\n",
       "      <th>0</th>\n",
       "      <td>McDonald’s</td>\n",
       "      <td>Hamburger</td>\n",
       "      <td>250</td>\n",
       "      <td>80</td>\n",
       "      <td>9</td>\n",
       "      <td>3.5</td>\n",
       "      <td>0.5</td>\n",
       "      <td>25</td>\n",
       "      <td>520</td>\n",
       "      <td>31</td>\n",
       "      <td>2</td>\n",
       "      <td>6</td>\n",
       "      <td>12</td>\n",
       "      <td>247.5</td>\n",
       "    </tr>\n",
       "    <tr>\n",
       "      <th>1</th>\n",
       "      <td>McDonald’s</td>\n",
       "      <td>Cheeseburger</td>\n",
       "      <td>300</td>\n",
       "      <td>110</td>\n",
       "      <td>12</td>\n",
       "      <td>6</td>\n",
       "      <td>0.5</td>\n",
       "      <td>40</td>\n",
       "      <td>750</td>\n",
       "      <td>33</td>\n",
       "      <td>2</td>\n",
       "      <td>6</td>\n",
       "      <td>15</td>\n",
       "      <td>297</td>\n",
       "    </tr>\n",
       "    <tr>\n",
       "      <th>2</th>\n",
       "      <td>McDonald’s</td>\n",
       "      <td>Double Cheeseburger</td>\n",
       "      <td>440</td>\n",
       "      <td>210</td>\n",
       "      <td>23</td>\n",
       "      <td>11</td>\n",
       "      <td>1.5</td>\n",
       "      <td>80</td>\n",
       "      <td>1150</td>\n",
       "      <td>34</td>\n",
       "      <td>2</td>\n",
       "      <td>7</td>\n",
       "      <td>25</td>\n",
       "      <td>433</td>\n",
       "    </tr>\n",
       "    <tr>\n",
       "      <th>3</th>\n",
       "      <td>McDonald’s</td>\n",
       "      <td>McDouble</td>\n",
       "      <td>390</td>\n",
       "      <td>170</td>\n",
       "      <td>19</td>\n",
       "      <td>8</td>\n",
       "      <td>1</td>\n",
       "      <td>65</td>\n",
       "      <td>920</td>\n",
       "      <td>33</td>\n",
       "      <td>2</td>\n",
       "      <td>7</td>\n",
       "      <td>22</td>\n",
       "      <td>383</td>\n",
       "    </tr>\n",
       "    <tr>\n",
       "      <th>4</th>\n",
       "      <td>McDonald’s</td>\n",
       "      <td>Quarter Pounder® with Cheese</td>\n",
       "      <td>510</td>\n",
       "      <td>230</td>\n",
       "      <td>26</td>\n",
       "      <td>12</td>\n",
       "      <td>1.5</td>\n",
       "      <td>90</td>\n",
       "      <td>1190</td>\n",
       "      <td>40</td>\n",
       "      <td>3</td>\n",
       "      <td>9</td>\n",
       "      <td>29</td>\n",
       "      <td>502</td>\n",
       "    </tr>\n",
       "  </tbody>\n",
       "</table>\n",
       "</div>"
      ],
      "text/plain": [
       "      Company                           Item Calories Calories fromFat  \\\n",
       "0  McDonald’s                      Hamburger      250               80   \n",
       "1  McDonald’s                   Cheeseburger      300              110   \n",
       "2  McDonald’s            Double Cheeseburger      440              210   \n",
       "3  McDonald’s                       McDouble      390              170   \n",
       "4  McDonald’s   Quarter Pounder® with Cheese      510              230   \n",
       "\n",
       "  Total Fat(g) Saturated Fat(g) Trans Fat(g) Cholesterol(mg) Sodium (mg)  \\\n",
       "0            9              3.5          0.5              25         520   \n",
       "1           12                6          0.5              40         750   \n",
       "2           23               11          1.5              80        1150   \n",
       "3           19                8            1              65         920   \n",
       "4           26               12          1.5              90        1190   \n",
       "\n",
       "  Carbs(g) Fiber(g) Sugars(g) Protein(g) Weight WatchersPnts  \n",
       "0       31        2         6         12               247.5  \n",
       "1       33        2         6         15                 297  \n",
       "2       34        2         7         25                 433  \n",
       "3       33        2         7         22                 383  \n",
       "4       40        3         9         29                 502  "
      ]
     },
     "execution_count": 2,
     "metadata": {},
     "output_type": "execute_result"
    }
   ],
   "source": [
    "fastfood_df = pd.read_csv('FastFoodNutritionMenuV3.csv')\n",
    "fastfood_df.columns = fastfood_df.columns.str.replace('\\n', '')\n",
    "fastfood_df.head()"
   ]
  },
  {
   "cell_type": "markdown",
   "id": "7b86ad47",
   "metadata": {},
   "source": [
    "# Tiền xử lý và khám phá dữ liệu"
   ]
  },
  {
   "cell_type": "markdown",
   "id": "f61097c4",
   "metadata": {},
   "source": [
    "### Dữ liệu gồm có bao nhiêu dòng và bao nhiêu cột?"
   ]
  },
  {
   "cell_type": "code",
   "execution_count": 3,
   "id": "f2fc400f",
   "metadata": {},
   "outputs": [
    {
     "data": {
      "text/plain": [
       "(1147, 14)"
      ]
     },
     "execution_count": 3,
     "metadata": {},
     "output_type": "execute_result"
    }
   ],
   "source": [
    "num_rows, num_cols = fastfood_df.shape\n",
    "num_rows, num_cols"
   ]
  },
  {
   "cell_type": "markdown",
   "id": "fc60ea81",
   "metadata": {},
   "source": [
    "### Mỗi dòng có ý nghĩa gì?"
   ]
  },
  {
   "cell_type": "markdown",
   "id": "ff2057e7",
   "metadata": {},
   "source": [
    "Mỗi dòng trong tập dữ liệu hiển thị thông tin về thành phần giá trị dinh dưỡng của món ăn tại các cửa hàng thức ăn nhanh."
   ]
  },
  {
   "cell_type": "markdown",
   "id": "9b0fa610",
   "metadata": {},
   "source": [
    "### Dữ liệu các dòng có bị lặp không?"
   ]
  },
  {
   "cell_type": "markdown",
   "id": "d6506c76",
   "metadata": {},
   "source": [
    "Kiểm tra số lượng dòng lặp bằng cách lưu kết quả vào biến `have_duplicated_rows`. Nếu `have_duplicated_rows` = 0 thì các dòng dữ liệu không bị lặp. Nếu `have_duplicated_rows` $\\geq$ 0, sẽ trả về số lượng dòng bị lặp."
   ]
  },
  {
   "cell_type": "code",
   "execution_count": 4,
   "id": "d6187b2b",
   "metadata": {},
   "outputs": [
    {
     "name": "stdout",
     "output_type": "stream",
     "text": [
      "Dữ liệu có 7 dòng bị lặp.\n"
     ]
    }
   ],
   "source": [
    "num_duplicated_rows = fastfood_df.duplicated().sum()\n",
    "if num_duplicated_rows == 0:\n",
    "    print(f\"Các dòng dữ liệu không bị lặp!\")\n",
    "else:\n",
    "    print(f\"Dữ liệu có {num_duplicated_rows} dòng bị lặp.\")"
   ]
  },
  {
   "cell_type": "markdown",
   "id": "74262b96",
   "metadata": {},
   "source": [
    "Dữ liệu có 7 dòng bị lặp, ta tiến hành xóa các dòng lặp."
   ]
  },
  {
   "cell_type": "code",
   "execution_count": 5,
   "id": "ac52d1b3",
   "metadata": {},
   "outputs": [],
   "source": [
    "fastfood_df = fastfood_df.drop_duplicates()"
   ]
  },
  {
   "cell_type": "markdown",
   "id": "ebb2d227",
   "metadata": {},
   "source": [
    "### Mỗi cột có ý nghĩa gì?"
   ]
  },
  {
   "cell_type": "markdown",
   "id": "f4b92eae",
   "metadata": {},
   "source": [
    "Ý nghĩa các cột có trong `fastfood_df`:\n",
    "- **Company**: Tên cửa hàng thức ăn nhanh\n",
    "- **Item**: Tên món ăn\n",
    "- **Calories**: Tổng số lượng năng lượng (calo) mà món ăn cung cấp\n",
    "- **Calories from Fat**: Số calo từ chất béo trong món ăn\n",
    "- **Total Fat(g)**: Tổng lượng chất béo trong món ăn\n",
    "- **Saturated Fat(g)**: Lượng chất béo bão hòa có trong món ăn\n",
    "- **Trans Fat(g)**: Lượng chất béo chuyển hóa có trong món ăn\n",
    "- **Cholesterol(mg)**: Lượng cholesterol có trong món ăn\n",
    "- **Sodium (mg)**: Lượng muối trong món ăn\n",
    "- **Carbs(g)**: Lượng carbohydrate trong món ăn\n",
    "- **Fiber(g)**: Lượng chất xơ có trong món ăn\n",
    "- **Sugars(g)**: Lượng đường có trong món ăn\n",
    "- **Protein(g)**: Lượng protein có trong món ăn\n",
    "- **Weight WatchersPnts**: Điểm đánh giá giá trị dinh dưỡng của món ăn (dựa trên một thuật toán tính đến lượng calo, chất béo, protein, đường và chất xơ có trong thực phẩm)"
   ]
  },
  {
   "cell_type": "markdown",
   "id": "adb61416",
   "metadata": {},
   "source": [
    "### Mỗi cột hiện đang có kiểu dữ liệu gì? Có cột nào có kiểu dữ liệu chưa phù hợp để có thể xử lý tiếp không?"
   ]
  },
  {
   "cell_type": "code",
   "execution_count": null,
   "id": "32e7ce40",
   "metadata": {},
   "outputs": [],
   "source": []
  },
  {
   "cell_type": "markdown",
   "id": "553427e2",
   "metadata": {},
   "source": [
    "### Với mỗi cột có kiểu dữ liệu dạng numeric, các giá trị được phân bố như thế nào?"
   ]
  },
  {
   "cell_type": "markdown",
   "id": "a001292c",
   "metadata": {},
   "source": [
    "#### Phần trăm giá trị còn thiếu là bao nhiêu?"
   ]
  },
  {
   "cell_type": "markdown",
   "id": "18de4d89",
   "metadata": {},
   "source": [
    "#### Giá trị tối đa? Giá trị tối thiểu? Chúng có bất thường không?"
   ]
  },
  {
   "cell_type": "markdown",
   "id": "b7cd7c74",
   "metadata": {},
   "source": [
    "### Với mỗi cột có kiểu dữ liệu dạng phân loại (categorical), các giá trị được phân bố như thế nào"
   ]
  },
  {
   "cell_type": "markdown",
   "id": "02787f25",
   "metadata": {},
   "source": [
    "#### Phần trăm giá trị còn thiếu là bao nhiêu?"
   ]
  },
  {
   "cell_type": "markdown",
   "id": "2e3f5dc2",
   "metadata": {},
   "source": [
    "#### Có bao nhiêu giá trị khác nhau trong ở từng cột?"
   ]
  },
  {
   "cell_type": "markdown",
   "id": "fabb5004",
   "metadata": {},
   "source": [
    "#### Chúng có bất thường không?"
   ]
  },
  {
   "cell_type": "code",
   "execution_count": null,
   "id": "d10e5a31",
   "metadata": {},
   "outputs": [],
   "source": []
  }
 ],
 "metadata": {
  "kernelspec": {
   "display_name": "Python 3 (ipykernel)",
   "language": "python",
   "name": "python3"
  },
  "language_info": {
   "codemirror_mode": {
    "name": "ipython",
    "version": 3
   },
   "file_extension": ".py",
   "mimetype": "text/x-python",
   "name": "python",
   "nbconvert_exporter": "python",
   "pygments_lexer": "ipython3",
   "version": "3.11.5"
  }
 },
 "nbformat": 4,
 "nbformat_minor": 5
}
