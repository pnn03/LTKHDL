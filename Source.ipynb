{
 "cells": [
  {
   "cell_type": "markdown",
   "id": "cbfbb924-31ca-4cb8-833f-3531c7d49e2d",
   "metadata": {},
   "source": [
    "<div style=\"text-align: left; background-color:#0A6EBD; font-family:Arial; color:white; border-color: #023468;padding: 12px; line-height:1.25;border-radius:1px; margin-bottom: 0em; text-align: center; font-size: 58px;border-style: solid;\">ĐỒ ÁN LÝ THUYẾT CUỐI KỲ</div>\n",
    "\n",
    "<div style=\"text-align: left; background-color:#82CAFA; font-family: Arial; color:white; padding: 12px; line-height:1.25;border-radius:1px; margin-bottom: 0em; text-align: center; font-size: 18px\">Bộ môn: Lập trình Khoa học Dữ liệu - Nhóm 24</div>"
   ]
  },
  {
   "cell_type": "markdown",
   "id": "8d8e1e3b",
   "metadata": {},
   "source": [
    "### Thành viên\n",
    "|<center><div style=\"width:150px\">MSSV</div><center>|<div style=\"width:290px\">Họ và tên</div>|\n",
    "|---------- |:-------------:|\n",
    "| <center>20120623<center>  |  Trần Thái Vỹ |\n",
    "| <center>21120035<center>  |  Nguyễn Hoài An |\n",
    "| <center>21120531<center>  |  Nguyễn Văn Phúc | "
   ]
  },
  {
   "cell_type": "markdown",
   "id": "328c3121-38b9-4555-9d8c-20e4634328ec",
   "metadata": {},
   "source": [
    "# <div style=\"text-align: left; background-color:#5A96E3; font-family:Arial; color:white; padding: 12px; line-height:1.25;border-radius:1px; margin-bottom: 0em; text-align: center; font-size: 30px;border-style: solid;border-color: #023468;\">ĐỀ TÀI: GIÁ TRỊ DINH DƯỠNG CỦA THỨC ĂN NHANH</div>"
   ]
  },
  {
   "cell_type": "markdown",
   "id": "6210e480-e5da-4236-8937-e4861e56e427",
   "metadata": {},
   "source": [
    "# Giới thiệu đề tài\n",
    "-  Thức ăn nhanh là một loại thực phẩm phổ biến trên toàn thế giới, đặc biệt là ở các nước phát triển. Thức ăn nhanh có nhiều ưu điểm như tiện lợi, nhanh chóng, giá cả hợp lý, phù hợp với lối sống hiện đại. Tuy nhiên, thức ăn nhanh cũng có nhiều nhược điểm, đặc biệt là về mặt dinh dưỡng. Thức ăn nhanh thường chứa nhiều calo, chất béo, đường và muối, nhưng lại thiếu chất xơ, vitamin và khoáng chất. Điều này có thể dẫn đến nhiều vấn đề sức khỏe như tăng cân, béo phì, tim mạch, tiểu đường,...\n",
    "- Vì vậy, việc tìm hiểu về giá trị dinh dưỡng của thức ăn nhanh sẽ giúp chúng ta có cái nhìn khách quan hơn về loại thực phẩm này, từ đó có thể lựa chọn và sử dụng thức ăn nhanh một cách hợp lý, lành mạnh hơn.\n",
    "  \n",
    "${\\to}$ *Đó là lí do nhóm quyết định thu thập dữ liệu về giá trị dinh dưỡng của các món ăn ở những của hàng thức ăn nhanh phổ biến ở Hoa Kỳ.*\n"
   ]
  },
  {
   "cell_type": "markdown",
   "id": "c8a0bdad",
   "metadata": {},
   "source": [
    "# Import thư viện"
   ]
  },
  {
   "cell_type": "code",
   "execution_count": 1,
   "id": "aad08937",
   "metadata": {},
   "outputs": [],
   "source": [
    "import pandas as pd\n",
    "import numpy as np\n",
    "import matplotlib.pyplot as plt\n",
    "import seaborn as sns\n",
    "import warnings  # Để loại bỏ các warning\n",
    "warnings.filterwarnings(\"ignore\")\n"
   ]
  },
  {
   "cell_type": "markdown",
   "id": "e3042342",
   "metadata": {},
   "source": [
    "# Thu thập dữ liệu"
   ]
  },
  {
   "cell_type": "markdown",
   "id": "90f91a0a",
   "metadata": {},
   "source": [
    "- Nhóm sử dụng dữ liệu \"FastFoodNutritionMenuV3.csv\" tại [Fast Food Nutrition](https://www.kaggle.com/datasets/joebeachcapital/fast-food)\n",
    "- Tập dữ liệu mô tả thành phần giá trị dinh dưỡng của các món ăn tại 6 cửa hàng thức ăn nhanh: \n",
    "    - McDonald's\n",
    "    - Burger King\n",
    "    - Wendy's\n",
    "    - KFC\n",
    "    - Taco Bell\n",
    "    - Pizza Hut\n",
    "- LICENSE của dữ liệu là [Database Contents License (DbCL) v1.0](https://opendatacommons.org/licenses/dbcl/1-0/), người dùng được phép sử dụng với mục đích phi thương mại.\n",
    "- Tác giả thu thập dữ liệu tại website [Food Nutrition Data](https://www.nutrition-charts.com/)."
   ]
  },
  {
   "cell_type": "markdown",
   "id": "232b06b7",
   "metadata": {},
   "source": [
    "### Đọc dữ liệu vào Dataframe `fastfood_df`"
   ]
  },
  {
   "cell_type": "code",
   "execution_count": 2,
   "id": "ad8e45ee",
   "metadata": {},
   "outputs": [],
   "source": [
    "# Đọc dữ liệu từ file csv\n",
    "fastfood_df = pd.read_csv('Data/FastFoodNutritionMenuV3.csv')\n",
    "\n",
    "# Bỏ các kí tự '\\r\\n' có trong tên các cột\n",
    "fastfood_df.columns = fastfood_df.columns.str.replace('\\r\\n', '')"
   ]
  },
  {
   "cell_type": "code",
   "execution_count": 3,
   "id": "33bc12e5-c4d5-4cad-8fd7-5d82a9a67355",
   "metadata": {},
   "outputs": [
    {
     "data": {
      "text/html": [
       "<div>\n",
       "<style scoped>\n",
       "    .dataframe tbody tr th:only-of-type {\n",
       "        vertical-align: middle;\n",
       "    }\n",
       "\n",
       "    .dataframe tbody tr th {\n",
       "        vertical-align: top;\n",
       "    }\n",
       "\n",
       "    .dataframe thead th {\n",
       "        text-align: right;\n",
       "    }\n",
       "</style>\n",
       "<table border=\"1\" class=\"dataframe\">\n",
       "  <thead>\n",
       "    <tr style=\"text-align: right;\">\n",
       "      <th></th>\n",
       "      <th>Company</th>\n",
       "      <th>Item</th>\n",
       "      <th>Calories</th>\n",
       "      <th>Calories fromFat</th>\n",
       "      <th>Total Fat(g)</th>\n",
       "      <th>Saturated Fat(g)</th>\n",
       "      <th>Trans Fat(g)</th>\n",
       "      <th>Cholesterol(mg)</th>\n",
       "      <th>Sodium (mg)</th>\n",
       "      <th>Carbs(g)</th>\n",
       "      <th>Fiber(g)</th>\n",
       "      <th>Sugars(g)</th>\n",
       "      <th>Protein(g)</th>\n",
       "      <th>Weight WatchersPnts</th>\n",
       "    </tr>\n",
       "  </thead>\n",
       "  <tbody>\n",
       "    <tr>\n",
       "      <th>0</th>\n",
       "      <td>McDonald’s</td>\n",
       "      <td>Hamburger</td>\n",
       "      <td>250</td>\n",
       "      <td>80</td>\n",
       "      <td>9</td>\n",
       "      <td>3.5</td>\n",
       "      <td>0.5</td>\n",
       "      <td>25</td>\n",
       "      <td>520</td>\n",
       "      <td>31</td>\n",
       "      <td>2</td>\n",
       "      <td>6</td>\n",
       "      <td>12</td>\n",
       "      <td>247.5</td>\n",
       "    </tr>\n",
       "    <tr>\n",
       "      <th>1</th>\n",
       "      <td>McDonald’s</td>\n",
       "      <td>Cheeseburger</td>\n",
       "      <td>300</td>\n",
       "      <td>110</td>\n",
       "      <td>12</td>\n",
       "      <td>6</td>\n",
       "      <td>0.5</td>\n",
       "      <td>40</td>\n",
       "      <td>750</td>\n",
       "      <td>33</td>\n",
       "      <td>2</td>\n",
       "      <td>6</td>\n",
       "      <td>15</td>\n",
       "      <td>297</td>\n",
       "    </tr>\n",
       "    <tr>\n",
       "      <th>2</th>\n",
       "      <td>McDonald’s</td>\n",
       "      <td>Double Cheeseburger</td>\n",
       "      <td>440</td>\n",
       "      <td>210</td>\n",
       "      <td>23</td>\n",
       "      <td>11</td>\n",
       "      <td>1.5</td>\n",
       "      <td>80</td>\n",
       "      <td>1150</td>\n",
       "      <td>34</td>\n",
       "      <td>2</td>\n",
       "      <td>7</td>\n",
       "      <td>25</td>\n",
       "      <td>433</td>\n",
       "    </tr>\n",
       "    <tr>\n",
       "      <th>3</th>\n",
       "      <td>McDonald’s</td>\n",
       "      <td>McDouble</td>\n",
       "      <td>390</td>\n",
       "      <td>170</td>\n",
       "      <td>19</td>\n",
       "      <td>8</td>\n",
       "      <td>1</td>\n",
       "      <td>65</td>\n",
       "      <td>920</td>\n",
       "      <td>33</td>\n",
       "      <td>2</td>\n",
       "      <td>7</td>\n",
       "      <td>22</td>\n",
       "      <td>383</td>\n",
       "    </tr>\n",
       "    <tr>\n",
       "      <th>4</th>\n",
       "      <td>McDonald’s</td>\n",
       "      <td>Quarter Pounder® with Cheese</td>\n",
       "      <td>510</td>\n",
       "      <td>230</td>\n",
       "      <td>26</td>\n",
       "      <td>12</td>\n",
       "      <td>1.5</td>\n",
       "      <td>90</td>\n",
       "      <td>1190</td>\n",
       "      <td>40</td>\n",
       "      <td>3</td>\n",
       "      <td>9</td>\n",
       "      <td>29</td>\n",
       "      <td>502</td>\n",
       "    </tr>\n",
       "  </tbody>\n",
       "</table>\n",
       "</div>"
      ],
      "text/plain": [
       "      Company                           Item Calories Calories fromFat  \\\n",
       "0  McDonald’s                      Hamburger      250               80   \n",
       "1  McDonald’s                   Cheeseburger      300              110   \n",
       "2  McDonald’s            Double Cheeseburger      440              210   \n",
       "3  McDonald’s                       McDouble      390              170   \n",
       "4  McDonald’s   Quarter Pounder® with Cheese      510              230   \n",
       "\n",
       "  Total Fat(g) Saturated Fat(g) Trans Fat(g) Cholesterol(mg) Sodium (mg)  \\\n",
       "0            9              3.5          0.5              25         520   \n",
       "1           12                6          0.5              40         750   \n",
       "2           23               11          1.5              80        1150   \n",
       "3           19                8            1              65         920   \n",
       "4           26               12          1.5              90        1190   \n",
       "\n",
       "  Carbs(g) Fiber(g) Sugars(g) Protein(g) Weight WatchersPnts  \n",
       "0       31        2         6         12               247.5  \n",
       "1       33        2         6         15                 297  \n",
       "2       34        2         7         25                 433  \n",
       "3       33        2         7         22                 383  \n",
       "4       40        3         9         29                 502  "
      ]
     },
     "execution_count": 3,
     "metadata": {},
     "output_type": "execute_result"
    }
   ],
   "source": [
    "# Hiển thị 10 dòng đầu tiên\n",
    "fastfood_df.head()"
   ]
  },
  {
   "cell_type": "code",
   "execution_count": 4,
   "id": "5c241815",
   "metadata": {},
   "outputs": [
    {
     "name": "stdout",
     "output_type": "stream",
     "text": [
      "<class 'pandas.core.frame.DataFrame'>\n",
      "RangeIndex: 1147 entries, 0 to 1146\n",
      "Data columns (total 14 columns):\n",
      " #   Column               Non-Null Count  Dtype \n",
      "---  ------               --------------  ----- \n",
      " 0   Company              1147 non-null   object\n",
      " 1   Item                 1147 non-null   object\n",
      " 2   Calories             1147 non-null   object\n",
      " 3   Calories fromFat     642 non-null    object\n",
      " 4   Total Fat(g)         1091 non-null   object\n",
      " 5   Saturated Fat(g)     1091 non-null   object\n",
      " 6   Trans Fat(g)         1091 non-null   object\n",
      " 7   Cholesterol(mg)      1147 non-null   object\n",
      " 8   Sodium (mg)          1147 non-null   object\n",
      " 9   Carbs(g)             1091 non-null   object\n",
      " 10  Fiber(g)             1091 non-null   object\n",
      " 11  Sugars(g)            1147 non-null   object\n",
      " 12  Protein(g)           1091 non-null   object\n",
      " 13  Weight WatchersPnts  887 non-null    object\n",
      "dtypes: object(14)\n",
      "memory usage: 125.6+ KB\n"
     ]
    }
   ],
   "source": [
    "# Hiển thị thông tin của dữ liệu\n",
    "fastfood_df.info()"
   ]
  },
  {
   "cell_type": "markdown",
   "id": "7b86ad47",
   "metadata": {},
   "source": [
    "# Tiền xử lý và khám phá dữ liệu"
   ]
  },
  {
   "cell_type": "markdown",
   "id": "f61097c4",
   "metadata": {},
   "source": [
    "### Dữ liệu gồm có bao nhiêu dòng và bao nhiêu cột?"
   ]
  },
  {
   "cell_type": "code",
   "execution_count": 5,
   "id": "f2fc400f",
   "metadata": {},
   "outputs": [
    {
     "data": {
      "text/plain": [
       "(1147, 14)"
      ]
     },
     "execution_count": 5,
     "metadata": {},
     "output_type": "execute_result"
    }
   ],
   "source": [
    "num_rows, num_cols = fastfood_df.shape\n",
    "num_rows, num_cols"
   ]
  },
  {
   "cell_type": "markdown",
   "id": "fc60ea81",
   "metadata": {},
   "source": [
    "### Mỗi dòng có ý nghĩa gì?"
   ]
  },
  {
   "cell_type": "markdown",
   "id": "ff2057e7",
   "metadata": {},
   "source": [
    "Mỗi dòng trong tập dữ liệu hiển thị thông tin về thành phần giá trị dinh dưỡng của món ăn tại các cửa hàng thức ăn nhanh."
   ]
  },
  {
   "cell_type": "markdown",
   "id": "9b0fa610",
   "metadata": {},
   "source": [
    "### Dữ liệu các dòng có bị lặp không?"
   ]
  },
  {
   "cell_type": "markdown",
   "id": "d6506c76",
   "metadata": {},
   "source": [
    "Kiểm tra số lượng dòng lặp bằng cách lưu kết quả vào biến `have_duplicated_rows`. Nếu `have_duplicated_rows` = 0 thì các dòng dữ liệu không bị lặp. Nếu `have_duplicated_rows` $\\geq$ 0, sẽ trả về số lượng dòng bị lặp."
   ]
  },
  {
   "cell_type": "code",
   "execution_count": 6,
   "id": "d6187b2b",
   "metadata": {},
   "outputs": [
    {
     "name": "stdout",
     "output_type": "stream",
     "text": [
      "Dữ liệu có 7 dòng bị lặp.\n"
     ]
    }
   ],
   "source": [
    "num_duplicated_rows = fastfood_df.duplicated().sum()\n",
    "if num_duplicated_rows == 0:\n",
    "    print(f\"Các dòng dữ liệu không bị lặp!\")\n",
    "else:\n",
    "    print(f\"Dữ liệu có {num_duplicated_rows} dòng bị lặp.\")"
   ]
  },
  {
   "cell_type": "markdown",
   "id": "74262b96",
   "metadata": {},
   "source": [
    "Dữ liệu có 7 dòng bị lặp, ta tiến hành xóa các dòng lặp."
   ]
  },
  {
   "cell_type": "code",
   "execution_count": 7,
   "id": "ac52d1b3",
   "metadata": {},
   "outputs": [],
   "source": [
    "# Xóa các dòng bị lặp\n",
    "fastfood_df = fastfood_df.drop_duplicates()"
   ]
  },
  {
   "cell_type": "markdown",
   "id": "ebb2d227",
   "metadata": {},
   "source": [
    "### Mỗi cột có ý nghĩa gì?"
   ]
  },
  {
   "cell_type": "markdown",
   "id": "f4b92eae",
   "metadata": {},
   "source": [
    "Ý nghĩa các cột có trong `fastfood_df`:\n",
    "- **Company**: Tên cửa hàng thức ăn nhanh\n",
    "- **Item**: Tên món ăn\n",
    "- **Calories**: Tổng số lượng năng lượng (calo) mà món ăn cung cấp\n",
    "- **Calories from Fat**: Số calo từ chất béo trong món ăn\n",
    "- **Total Fat(g)**: Tổng lượng chất béo trong món ăn\n",
    "- **Saturated Fat(g)**: Lượng chất béo bão hòa có trong món ăn\n",
    "- **Trans Fat(g)**: Lượng chất béo chuyển hóa có trong món ăn\n",
    "- **Cholesterol(mg)**: Lượng cholesterol có trong món ăn\n",
    "- **Sodium (mg)**: Lượng natri trong món ăn\n",
    "- **Carbs(g)**: Lượng carbohydrate trong món ăn\n",
    "- **Fiber(g)**: Lượng chất xơ có trong món ăn\n",
    "- **Sugars(g)**: Lượng đường có trong món ăn\n",
    "- **Protein(g)**: Lượng protein có trong món ăn\n",
    "- **Weight WatchersPnts**: Điểm đánh giá giá trị dinh dưỡng của món ăn (dựa trên một thuật toán tính đến lượng calo, chất béo, protein, đường và chất xơ có trong thực phẩm)"
   ]
  },
  {
   "cell_type": "markdown",
   "id": "adb61416",
   "metadata": {},
   "source": [
    "### Mỗi cột hiện đang có kiểu dữ liệu gì? Có cột nào có kiểu dữ liệu chưa phù hợp để có thể xử lý tiếp không?"
   ]
  },
  {
   "cell_type": "markdown",
   "id": "932d96b5-3fbc-4e38-9ce2-2411f1ce5aa4",
   "metadata": {},
   "source": [
    "Ta tiến hành lấy `dtype` của mỗi cột trong `fastfood_df`."
   ]
  },
  {
   "cell_type": "code",
   "execution_count": 8,
   "id": "32e7ce40",
   "metadata": {},
   "outputs": [
    {
     "data": {
      "text/plain": [
       "Company                object\n",
       "Item                   object\n",
       "Calories               object\n",
       "Calories fromFat       object\n",
       "Total Fat(g)           object\n",
       "Saturated Fat(g)       object\n",
       "Trans Fat(g)           object\n",
       "Cholesterol(mg)        object\n",
       "Sodium (mg)            object\n",
       "Carbs(g)               object\n",
       "Fiber(g)               object\n",
       "Sugars(g)              object\n",
       "Protein(g)             object\n",
       "Weight WatchersPnts    object\n",
       "dtype: object"
      ]
     },
     "execution_count": 8,
     "metadata": {},
     "output_type": "execute_result"
    }
   ],
   "source": [
    "# Kiểu dữ liệu của từng cột\n",
    "fastfood_df.dtypes"
   ]
  },
  {
   "cell_type": "markdown",
   "id": "8c8e3924-44b3-442a-8a52-8af19f40d751",
   "metadata": {},
   "source": [
    "- Cột `Company` là tên của từng cửa hàng thức ăn nhanh ta có thể chuyển qua kiểu `category`."
   ]
  },
  {
   "cell_type": "code",
   "execution_count": 9,
   "id": "2e0353b6-a9b6-4b29-a198-c96fa3c51ce9",
   "metadata": {},
   "outputs": [],
   "source": [
    "fastfood_df['Company'] = fastfood_df['Company'].astype('category')"
   ]
  },
  {
   "cell_type": "markdown",
   "id": "fb11d3f5-079b-4f46-8a54-97af11930efc",
   "metadata": {},
   "source": [
    "- Các cột chỉ số thành phần dinh dưỡng của món ăn là `Calories`, `Calories fromFat`, `Total Fat(g)`, `Saturated Fat(g)`, `Trans Fat(g)`, `Cholesterol(mg)`, `Sodium (mg)`,`Carbs(g)`, `Fiber(g)`, `Sugars(g)`, `Protein(g)` và cột điểm đánh giá thành phần dinh dưỡng món ăn `Weight WatchersPnts` ta chuyển sang kiểu `numeric`."
   ]
  },
  {
   "cell_type": "code",
   "execution_count": 10,
   "id": "09f0e1bf-1e8e-4184-88b1-bc38c9f0e774",
   "metadata": {},
   "outputs": [],
   "source": [
    "# Lấy các cột chỉ số giá trị dinh dưỡng món ăn\n",
    "numeric_columns = fastfood_df.columns[2:]\n",
    "for col in numeric_columns:\n",
    "  fastfood_df[col] = pd.to_numeric(fastfood_df[col], errors='coerce') # Chuyển qua kiểu 'numeric'"
   ]
  },
  {
   "cell_type": "code",
   "execution_count": 11,
   "id": "fe8a2e00-5b92-4d24-927b-04f73255c8c3",
   "metadata": {},
   "outputs": [
    {
     "data": {
      "text/plain": [
       "Company                category\n",
       "Item                     object\n",
       "Calories                float64\n",
       "Calories fromFat        float64\n",
       "Total Fat(g)            float64\n",
       "Saturated Fat(g)        float64\n",
       "Trans Fat(g)            float64\n",
       "Cholesterol(mg)         float64\n",
       "Sodium (mg)             float64\n",
       "Carbs(g)                float64\n",
       "Fiber(g)                float64\n",
       "Sugars(g)               float64\n",
       "Protein(g)              float64\n",
       "Weight WatchersPnts     float64\n",
       "dtype: object"
      ]
     },
     "execution_count": 11,
     "metadata": {},
     "output_type": "execute_result"
    }
   ],
   "source": [
    "# Hiển thị lại kiểu dữ liệu của từng cột sao khi chuyển đổi\n",
    "fastfood_df.dtypes"
   ]
  },
  {
   "cell_type": "markdown",
   "id": "553427e2",
   "metadata": {},
   "source": [
    "### Với mỗi cột có kiểu dữ liệu dạng số (numeric), các giá trị được phân bố như thế nào?"
   ]
  },
  {
   "cell_type": "markdown",
   "id": "cc0bc084-bd07-4110-b245-376ab7d7896d",
   "metadata": {},
   "source": [
    "Với mỗi cột numeric ta sẽ tính:\n",
    "- Tỷ lệ phần trăm (từ 0 đến 100) giá trị bị thiếu\n",
    "- Giá trị tối thiểu (Min)\n",
    "- Tứ phân vị dưới (phân vị 25)\n",
    "- Trung vị (phân vị 50)\n",
    "- Tứ phân vị trên (phân vị 75)\n",
    "- Giá trị tối đa (Max)\n",
    "\n",
    "Lưu kết quả vào DataFrame `num_col_info_df`, trong đó:\n",
    "- Tên của các cột là tên của các cột kiểu numeric trong `fastfood_df`.\n",
    "- Tên của các dòng là: \"missing_ratio\", \"min\", \"lower_quartile\", \"median\", \"upper_quartile\", \"max\" ."
   ]
  },
  {
   "cell_type": "code",
   "execution_count": 12,
   "id": "ca1cde60-0740-4423-8af8-ed7b3d389371",
   "metadata": {},
   "outputs": [
    {
     "data": {
      "text/html": [
       "<div>\n",
       "<style scoped>\n",
       "    .dataframe tbody tr th:only-of-type {\n",
       "        vertical-align: middle;\n",
       "    }\n",
       "\n",
       "    .dataframe tbody tr th {\n",
       "        vertical-align: top;\n",
       "    }\n",
       "\n",
       "    .dataframe thead th {\n",
       "        text-align: right;\n",
       "    }\n",
       "</style>\n",
       "<table border=\"1\" class=\"dataframe\">\n",
       "  <thead>\n",
       "    <tr style=\"text-align: right;\">\n",
       "      <th></th>\n",
       "      <th>Calories</th>\n",
       "      <th>Calories fromFat</th>\n",
       "      <th>Total Fat(g)</th>\n",
       "      <th>Saturated Fat(g)</th>\n",
       "      <th>Trans Fat(g)</th>\n",
       "      <th>Cholesterol(mg)</th>\n",
       "      <th>Sodium (mg)</th>\n",
       "      <th>Carbs(g)</th>\n",
       "      <th>Fiber(g)</th>\n",
       "      <th>Sugars(g)</th>\n",
       "      <th>Protein(g)</th>\n",
       "      <th>Weight WatchersPnts</th>\n",
       "    </tr>\n",
       "  </thead>\n",
       "  <tbody>\n",
       "    <tr>\n",
       "      <th>missing_ratio</th>\n",
       "      <td>1.2</td>\n",
       "      <td>45.4</td>\n",
       "      <td>6.0</td>\n",
       "      <td>6.0</td>\n",
       "      <td>6.0</td>\n",
       "      <td>2.5</td>\n",
       "      <td>1.3</td>\n",
       "      <td>6.1</td>\n",
       "      <td>7.3</td>\n",
       "      <td>2.5</td>\n",
       "      <td>6.0</td>\n",
       "      <td>23.8</td>\n",
       "    </tr>\n",
       "    <tr>\n",
       "      <th>min</th>\n",
       "      <td>0.0</td>\n",
       "      <td>0.0</td>\n",
       "      <td>0.0</td>\n",
       "      <td>0.0</td>\n",
       "      <td>0.0</td>\n",
       "      <td>0.0</td>\n",
       "      <td>0.0</td>\n",
       "      <td>0.0</td>\n",
       "      <td>0.0</td>\n",
       "      <td>0.0</td>\n",
       "      <td>0.0</td>\n",
       "      <td>0.0</td>\n",
       "    </tr>\n",
       "    <tr>\n",
       "      <th>lower_quartile</th>\n",
       "      <td>140.0</td>\n",
       "      <td>0.0</td>\n",
       "      <td>0.0</td>\n",
       "      <td>0.0</td>\n",
       "      <td>0.0</td>\n",
       "      <td>0.0</td>\n",
       "      <td>70.0</td>\n",
       "      <td>17.0</td>\n",
       "      <td>0.0</td>\n",
       "      <td>2.0</td>\n",
       "      <td>0.0</td>\n",
       "      <td>142.0</td>\n",
       "    </tr>\n",
       "    <tr>\n",
       "      <th>median</th>\n",
       "      <td>240.0</td>\n",
       "      <td>80.0</td>\n",
       "      <td>8.0</td>\n",
       "      <td>3.0</td>\n",
       "      <td>0.0</td>\n",
       "      <td>20.0</td>\n",
       "      <td>190.0</td>\n",
       "      <td>34.0</td>\n",
       "      <td>0.0</td>\n",
       "      <td>8.0</td>\n",
       "      <td>7.0</td>\n",
       "      <td>274.0</td>\n",
       "    </tr>\n",
       "    <tr>\n",
       "      <th>upper_quartile</th>\n",
       "      <td>390.0</td>\n",
       "      <td>170.0</td>\n",
       "      <td>18.0</td>\n",
       "      <td>6.0</td>\n",
       "      <td>0.0</td>\n",
       "      <td>50.0</td>\n",
       "      <td>680.0</td>\n",
       "      <td>52.0</td>\n",
       "      <td>2.0</td>\n",
       "      <td>40.0</td>\n",
       "      <td>14.0</td>\n",
       "      <td>432.0</td>\n",
       "    </tr>\n",
       "    <tr>\n",
       "      <th>max</th>\n",
       "      <td>1220.0</td>\n",
       "      <td>750.0</td>\n",
       "      <td>98.0</td>\n",
       "      <td>33.0</td>\n",
       "      <td>4.5</td>\n",
       "      <td>575.0</td>\n",
       "      <td>2890.0</td>\n",
       "      <td>270.0</td>\n",
       "      <td>31.0</td>\n",
       "      <td>264.0</td>\n",
       "      <td>71.0</td>\n",
       "      <td>1317.0</td>\n",
       "    </tr>\n",
       "  </tbody>\n",
       "</table>\n",
       "</div>"
      ],
      "text/plain": [
       "                Calories  Calories fromFat  Total Fat(g)  Saturated Fat(g)  \\\n",
       "missing_ratio        1.2              45.4           6.0               6.0   \n",
       "min                  0.0               0.0           0.0               0.0   \n",
       "lower_quartile     140.0               0.0           0.0               0.0   \n",
       "median             240.0              80.0           8.0               3.0   \n",
       "upper_quartile     390.0             170.0          18.0               6.0   \n",
       "max               1220.0             750.0          98.0              33.0   \n",
       "\n",
       "                Trans Fat(g)  Cholesterol(mg)  Sodium (mg)  Carbs(g)  \\\n",
       "missing_ratio            6.0              2.5          1.3       6.1   \n",
       "min                      0.0              0.0          0.0       0.0   \n",
       "lower_quartile           0.0              0.0         70.0      17.0   \n",
       "median                   0.0             20.0        190.0      34.0   \n",
       "upper_quartile           0.0             50.0        680.0      52.0   \n",
       "max                      4.5            575.0       2890.0     270.0   \n",
       "\n",
       "                Fiber(g)  Sugars(g)  Protein(g)  Weight WatchersPnts  \n",
       "missing_ratio        7.3        2.5         6.0                 23.8  \n",
       "min                  0.0        0.0         0.0                  0.0  \n",
       "lower_quartile       0.0        2.0         0.0                142.0  \n",
       "median               0.0        8.0         7.0                274.0  \n",
       "upper_quartile       2.0       40.0        14.0                432.0  \n",
       "max                 31.0      264.0        71.0               1317.0  "
      ]
     },
     "execution_count": 12,
     "metadata": {},
     "output_type": "execute_result"
    }
   ],
   "source": [
    "numeric_columns  = fastfood_df.select_dtypes(include=['number'])\n",
    "# Phần trăm giá trị thiếu\n",
    "def missing_ratio(col):\n",
    "    return  col.isnull().mean() * 100\n",
    "\n",
    "# Tứ phân vị dưới (25%)\n",
    "def lower_quartile(col):\n",
    "    return col.quantile(0.25)\n",
    "\n",
    "# Trung vị (50%)\n",
    "def median(col):\n",
    "    return col.median()\n",
    "\n",
    "# Tứ phân vị trên (75%)\n",
    "def upper_quartile(col):\n",
    "    return col.quantile(0.75)\n",
    "\n",
    "nume_col_profiles_df = numeric_columns.agg([missing_ratio, \"min\", lower_quartile, median, upper_quartile, \"max\"])\n",
    "nume_col_profiles_df.round(1)"
   ]
  },
  {
   "cell_type": "markdown",
   "id": "a001292c",
   "metadata": {},
   "source": [
    "#### Phần trăm giá trị còn thiếu là bao nhiêu?"
   ]
  },
  {
   "cell_type": "code",
   "execution_count": 13,
   "id": "f19525b6-6d60-47d0-9648-0e756afab444",
   "metadata": {},
   "outputs": [
    {
     "data": {
      "text/plain": [
       "Calories                1.228070\n",
       "Calories fromFat       45.350877\n",
       "Total Fat(g)            5.964912\n",
       "Saturated Fat(g)        5.964912\n",
       "Trans Fat(g)            5.964912\n",
       "Cholesterol(mg)         2.456140\n",
       "Sodium (mg)             1.315789\n",
       "Carbs(g)                6.052632\n",
       "Fiber(g)                7.280702\n",
       "Sugars(g)               2.543860\n",
       "Protein(g)              5.964912\n",
       "Weight WatchersPnts    23.771930\n",
       "Name: missing_ratio, dtype: float64"
      ]
     },
     "execution_count": 13,
     "metadata": {},
     "output_type": "execute_result"
    }
   ],
   "source": [
    "nume_col_profiles_df.loc['missing_ratio']"
   ]
  },
  {
   "cell_type": "markdown",
   "id": "18180335-d317-4b34-9811-af09fd4860eb",
   "metadata": {},
   "source": [
    "Các cột đều có giá trị thiếu, trong đó cột `Calories fromFat` có tỉ lệ thiếu cao nhất (45,35%) và cột `Weight WatchersPnts` có tỉ lệ thiếu cao thứ hai (23,77%). Các cột còn lại thì tỉ lệ thiếu chỉ ở mức dưới 10%."
   ]
  },
  {
   "cell_type": "markdown",
   "id": "d1480e9a-7e38-4568-ab9c-58fc763c68ae",
   "metadata": {},
   "source": [
    "Thông thường, nếu tỷ lệ phần trăm giá trị bị thiếu lớn hơn 75%, cột sẽ bị loại khỏi dataframe. Tuy nhiên, tất cả các cột trên đều có tỉ lệ bị thiếu nhỏ hơn 75%, vì vậy ta sẽ điền những giá trị còn thiếu này bằng giá trị trung bình của cột tương ứng."
   ]
  },
  {
   "cell_type": "code",
   "execution_count": 14,
   "id": "4dc148bc-5f78-48c6-a24a-29161280fe7a",
   "metadata": {},
   "outputs": [],
   "source": [
    "# Hàm thay các giá trị thiếu bằng giá trị trung bình cột\n",
    "def filling_missing_value(df: pd.DataFrame) -> pd.DataFrame:\n",
    "    col_name = list(df.select_dtypes(include = 'number').columns.values)\n",
    "    df[col_name] = df[col_name].replace(to_replace=[None], value=np.nan)\n",
    "    df = df.fillna(df[col_name].mean(skipna = True, numeric_only = True))\n",
    "    return df"
   ]
  },
  {
   "cell_type": "code",
   "execution_count": 15,
   "id": "7873dba7-7ad1-400d-9dee-d61bcced043e",
   "metadata": {},
   "outputs": [],
   "source": [
    "# Thay giá trị thiếu bằng giá trị trung bình cột\n",
    "fastfood_df = filling_missing_value(fastfood_df)"
   ]
  },
  {
   "cell_type": "markdown",
   "id": "18de4d89",
   "metadata": {},
   "source": [
    "#### Giá trị tối đa? Giá trị tối thiểu? Chúng có bất thường không?"
   ]
  },
  {
   "cell_type": "markdown",
   "id": "33853aba-680e-4252-abbb-93f24ecb7d4b",
   "metadata": {},
   "source": [
    "Không có giá trị bất thường ở thông số giá trị tối đa (max). Tuy nhiên ở thông số giá trị tối thiểu (min), các cột đều có giá trị tối thiểu là 0."
   ]
  },
  {
   "cell_type": "markdown",
   "id": "7c3340c8-6fbe-429a-af41-7063974e8168",
   "metadata": {},
   "source": [
    "### Với mỗi cột có kiểu dữ liệu dạng phân loại (categorical), các giá trị được phân bố như thế nào ?"
   ]
  },
  {
   "cell_type": "markdown",
   "id": "afe81f5e-8c5a-4af4-b626-694c19ded651",
   "metadata": {},
   "source": [
    "Đối với các cột có kiểu dữ liệu dạng phân loại (categorical), ta tính :\n",
    "- Phần trăm (từ 0 đến 100) của giá trị thiếu sót.\n",
    "- Số lượng giá trị khác nhau (không xét giá trị thiếu).\n",
    "- Số lượng của từng giá trị đó được sắp xếp theo thứ tự phần trăm giảm dần.\n",
    "  \n",
    "Lưu kết quả vào DataFrame `cate_col_info_df`, trong đó:\n",
    "- Tên của các cột là tên của các cột kiểu category trong `fastfood_df`.\n",
    "- Tên của các dòng là: \"missing_ratio\", \"num_diff_vals\", \"num_of_each_val\"."
   ]
  },
  {
   "cell_type": "code",
   "execution_count": 16,
   "id": "581f039b-4b0f-4fcb-8e9f-dded9f59c819",
   "metadata": {},
   "outputs": [
    {
     "data": {
      "text/html": [
       "<div>\n",
       "<style scoped>\n",
       "    .dataframe tbody tr th:only-of-type {\n",
       "        vertical-align: middle;\n",
       "    }\n",
       "\n",
       "    .dataframe tbody tr th {\n",
       "        vertical-align: top;\n",
       "    }\n",
       "\n",
       "    .dataframe thead th {\n",
       "        text-align: right;\n",
       "    }\n",
       "</style>\n",
       "<table border=\"1\" class=\"dataframe\">\n",
       "  <thead>\n",
       "    <tr style=\"text-align: right;\">\n",
       "      <th></th>\n",
       "      <th>Company</th>\n",
       "    </tr>\n",
       "  </thead>\n",
       "  <tbody>\n",
       "    <tr>\n",
       "      <th>missing_ratio</th>\n",
       "      <td>0.0</td>\n",
       "    </tr>\n",
       "    <tr>\n",
       "      <th>num_diff_vals</th>\n",
       "      <td>6</td>\n",
       "    </tr>\n",
       "    <tr>\n",
       "      <th>num_of_each_val</th>\n",
       "      <td>{'McDonald’s': 328, 'KFC': 218, 'Burger King':...</td>\n",
       "    </tr>\n",
       "  </tbody>\n",
       "</table>\n",
       "</div>"
      ],
      "text/plain": [
       "                                                           Company\n",
       "missing_ratio                                                  0.0\n",
       "num_diff_vals                                                    6\n",
       "num_of_each_val  {'McDonald’s': 328, 'KFC': 218, 'Burger King':..."
      ]
     },
     "execution_count": 16,
     "metadata": {},
     "output_type": "execute_result"
    }
   ],
   "source": [
    "cate_col_info_df = fastfood_df.select_dtypes(include='category')\n",
    "\n",
    "# Phần trăm missing value\n",
    "def missing_ratio(series):\n",
    "    return series.isna().mean() * 100\n",
    "\n",
    "# Số lượng giá trị khác nhau\n",
    "def num_diff_vals(series):\n",
    "    return series.nunique()\n",
    "\n",
    "# Số lượng của từng giá trị khác nhau\n",
    "def num_of_each_val(series):\n",
    "    return (series.value_counts()).to_dict()\n",
    "\n",
    "cate_col_info_df = (cate_col_info_df.agg([missing_ratio, num_diff_vals, num_of_each_val]))\n",
    "\n",
    "cate_col_info_df "
   ]
  },
  {
   "cell_type": "markdown",
   "id": "c953fa95-4777-4a3f-b17e-ac5f479f965c",
   "metadata": {},
   "source": [
    "Cột `Company` không có giá trị thiếu."
   ]
  },
  {
   "cell_type": "markdown",
   "id": "2e3f5dc2",
   "metadata": {},
   "source": [
    "#### Có bao nhiêu giá trị khác nhau trong ở từng cột? Chúng có bất thường không?"
   ]
  },
  {
   "cell_type": "markdown",
   "id": "3b8a5deb-162a-4561-a2a7-1dcd1e3e25f9",
   "metadata": {},
   "source": [
    "Cột `Company` có kiểu category và có 6 giá trị khác nhau ở trong cột này. Không có gì bất thường vì đây là dữ liệu về giá trị dinh dưỡng của các món ăn lấy từ 6 cửa hàng được khảo sát."
   ]
  },
  {
   "cell_type": "markdown",
   "id": "857d89ad-d45d-42b8-a3bb-692280af00c1",
   "metadata": {},
   "source": [
    "# Đặt câu hỏi và phân tích dữ liệu để trả lời"
   ]
  },
  {
   "cell_type": "markdown",
   "id": "3c347649-c4f5-4207-b20a-94bd39f8f95f",
   "metadata": {},
   "source": [
    "#### Câu 1: Cho biết lượng carbohydrats của 2 loại bánh mì sandwich và burger phân bố chủ yếu ở mức nào? Ở từng cửa hàng, lượng chất xơ (fiber) và lượng đường (sugar) chiếm tỉ lệ bao nhiêu so với tổng lượng carbs có trong các loại bánh mì đó?"
   ]
  },
  {
   "cell_type": "markdown",
   "id": "928403bd-cbae-4c20-93f4-5bc4089257f9",
   "metadata": {},
   "source": [
    "**Ý nghĩa khi trả lời câu hỏi:** \n",
    "- Giúp ta thấy được ở từng loại bánh mì sandwich và burger sẽ có lượng Carbohydrats ở mức nào, hàm lượng chất xơ và đường trong 2 loại bánh mì đó ở mỗi cửa hàng là nhiều hay ít. Từ đó, khách hàng có thể chọn ăn burger hoặc sandwich của cửa hàng nào có lượng Carbs, lượng chất xơ và lượng đường phù hợp với chế độ ăn uống và nhu cầu của mình.\n",
    "\n",
    "**Các bước cần làm để để trả lời câu hỏi:**\n",
    "- Bước 1: Ta sẽ tiến hành lấy dữ liệu về loại món ăn là sandwich và burger từ `fastfood_df` rồi lưu vào 2 dataframe `sandwich_df` và `burger_df`.\n",
    "- Bước 2: Trực quan hóa bằng biểu đồ histogram phân phối lượng carbohydrate (Carbs) cho 2 loại bánh mì burger và sandwich trên cùng một biểu rồi nêu nhận xét.\n",
    "- Bước 3: Tính tỉ lệ chất xơ, tỉ lệ đường và tỉ lệ các chất carbohydrates khác của 2 loại bánh mì theo từng cửa hàng.\n",
    "- Bước 4: Vẽ các biểu đồ tròn cho biết tỉ lệ các chất carbs có trong từng loại bánh mì của mỗi cửa hàng và nêu nhận xét."
   ]
  },
  {
   "cell_type": "markdown",
   "id": "d1efd09e-22e7-4a06-8314-cb4fb9fce798",
   "metadata": {},
   "source": [
    "**Bước 1:** Ta sẽ tiến hành lấy dữ liệu về loại món ăn là sandwich và burger từ fastfood_df rồi lưu vào 2 dataframe `sandwich_df` và `burger_df`."
   ]
  },
  {
   "cell_type": "code",
   "execution_count": 17,
   "id": "9a86efe5-0eaa-430f-bcb9-f13d9d7e33e6",
   "metadata": {},
   "outputs": [
    {
     "data": {
      "text/html": [
       "<div>\n",
       "<style scoped>\n",
       "    .dataframe tbody tr th:only-of-type {\n",
       "        vertical-align: middle;\n",
       "    }\n",
       "\n",
       "    .dataframe tbody tr th {\n",
       "        vertical-align: top;\n",
       "    }\n",
       "\n",
       "    .dataframe thead th {\n",
       "        text-align: right;\n",
       "    }\n",
       "</style>\n",
       "<table border=\"1\" class=\"dataframe\">\n",
       "  <thead>\n",
       "    <tr style=\"text-align: right;\">\n",
       "      <th></th>\n",
       "      <th>Company</th>\n",
       "      <th>Item</th>\n",
       "      <th>Calories</th>\n",
       "      <th>Calories fromFat</th>\n",
       "      <th>Total Fat(g)</th>\n",
       "      <th>Saturated Fat(g)</th>\n",
       "      <th>Trans Fat(g)</th>\n",
       "      <th>Cholesterol(mg)</th>\n",
       "      <th>Sodium (mg)</th>\n",
       "      <th>Carbs(g)</th>\n",
       "      <th>Fiber(g)</th>\n",
       "      <th>Sugars(g)</th>\n",
       "      <th>Protein(g)</th>\n",
       "      <th>Weight WatchersPnts</th>\n",
       "    </tr>\n",
       "  </thead>\n",
       "  <tbody>\n",
       "    <tr>\n",
       "      <th>15</th>\n",
       "      <td>McDonald’s</td>\n",
       "      <td>Premium Grilled Chicken Classic Sandwich</td>\n",
       "      <td>360.0</td>\n",
       "      <td>80.0</td>\n",
       "      <td>9.0</td>\n",
       "      <td>2.0</td>\n",
       "      <td>0.0</td>\n",
       "      <td>65.0</td>\n",
       "      <td>820.0</td>\n",
       "      <td>41.0</td>\n",
       "      <td>4.0</td>\n",
       "      <td>8.0</td>\n",
       "      <td>27.0</td>\n",
       "      <td>343.0</td>\n",
       "    </tr>\n",
       "    <tr>\n",
       "      <th>16</th>\n",
       "      <td>McDonald’s</td>\n",
       "      <td>Premium Crispy Chicken Classic Sandwich</td>\n",
       "      <td>510.0</td>\n",
       "      <td>200.0</td>\n",
       "      <td>22.0</td>\n",
       "      <td>3.5</td>\n",
       "      <td>0.0</td>\n",
       "      <td>45.0</td>\n",
       "      <td>990.0</td>\n",
       "      <td>56.0</td>\n",
       "      <td>3.0</td>\n",
       "      <td>10.0</td>\n",
       "      <td>24.0</td>\n",
       "      <td>499.5</td>\n",
       "    </tr>\n",
       "    <tr>\n",
       "      <th>17</th>\n",
       "      <td>McDonald’s</td>\n",
       "      <td>Premium Grilled Chicken Club Sandwich</td>\n",
       "      <td>460.0</td>\n",
       "      <td>150.0</td>\n",
       "      <td>17.0</td>\n",
       "      <td>6.0</td>\n",
       "      <td>0.0</td>\n",
       "      <td>90.0</td>\n",
       "      <td>1040.0</td>\n",
       "      <td>43.0</td>\n",
       "      <td>4.0</td>\n",
       "      <td>9.0</td>\n",
       "      <td>35.0</td>\n",
       "      <td>440.0</td>\n",
       "    </tr>\n",
       "    <tr>\n",
       "      <th>18</th>\n",
       "      <td>McDonald’s</td>\n",
       "      <td>Premium Crispy Chicken Club Sandwich</td>\n",
       "      <td>620.0</td>\n",
       "      <td>260.0</td>\n",
       "      <td>29.0</td>\n",
       "      <td>7.0</td>\n",
       "      <td>0.0</td>\n",
       "      <td>70.0</td>\n",
       "      <td>1200.0</td>\n",
       "      <td>57.0</td>\n",
       "      <td>3.0</td>\n",
       "      <td>11.0</td>\n",
       "      <td>31.0</td>\n",
       "      <td>607.0</td>\n",
       "    </tr>\n",
       "    <tr>\n",
       "      <th>19</th>\n",
       "      <td>McDonald’s</td>\n",
       "      <td>Premium Grilled Chicken Ranch BLT Sandwich</td>\n",
       "      <td>380.0</td>\n",
       "      <td>90.0</td>\n",
       "      <td>10.0</td>\n",
       "      <td>3.0</td>\n",
       "      <td>0.0</td>\n",
       "      <td>75.0</td>\n",
       "      <td>1000.0</td>\n",
       "      <td>41.0</td>\n",
       "      <td>4.0</td>\n",
       "      <td>9.0</td>\n",
       "      <td>31.0</td>\n",
       "      <td>361.0</td>\n",
       "    </tr>\n",
       "  </tbody>\n",
       "</table>\n",
       "</div>"
      ],
      "text/plain": [
       "       Company                                        Item  Calories  \\\n",
       "15  McDonald’s    Premium Grilled Chicken Classic Sandwich     360.0   \n",
       "16  McDonald’s     Premium Crispy Chicken Classic Sandwich     510.0   \n",
       "17  McDonald’s       Premium Grilled Chicken Club Sandwich     460.0   \n",
       "18  McDonald’s        Premium Crispy Chicken Club Sandwich     620.0   \n",
       "19  McDonald’s  Premium Grilled Chicken Ranch BLT Sandwich     380.0   \n",
       "\n",
       "    Calories fromFat  Total Fat(g)  Saturated Fat(g)  Trans Fat(g)  \\\n",
       "15              80.0           9.0               2.0           0.0   \n",
       "16             200.0          22.0               3.5           0.0   \n",
       "17             150.0          17.0               6.0           0.0   \n",
       "18             260.0          29.0               7.0           0.0   \n",
       "19              90.0          10.0               3.0           0.0   \n",
       "\n",
       "    Cholesterol(mg)  Sodium (mg)  Carbs(g)  Fiber(g)  Sugars(g)  Protein(g)  \\\n",
       "15             65.0        820.0      41.0       4.0        8.0        27.0   \n",
       "16             45.0        990.0      56.0       3.0       10.0        24.0   \n",
       "17             90.0       1040.0      43.0       4.0        9.0        35.0   \n",
       "18             70.0       1200.0      57.0       3.0       11.0        31.0   \n",
       "19             75.0       1000.0      41.0       4.0        9.0        31.0   \n",
       "\n",
       "    Weight WatchersPnts  \n",
       "15                343.0  \n",
       "16                499.5  \n",
       "17                440.0  \n",
       "18                607.0  \n",
       "19                361.0  "
      ]
     },
     "execution_count": 17,
     "metadata": {},
     "output_type": "execute_result"
    }
   ],
   "source": [
    "# Lấy các loại bánh mì sandwich và lưu vào sandwich_df\n",
    "sandwich_df = fastfood_df[fastfood_df['Item'].str.contains('sandwich', case=False)]\n",
    "sandwich_df.head()"
   ]
  },
  {
   "cell_type": "code",
   "execution_count": 18,
   "id": "a069f072-ed6e-4393-bad2-9da483453ac7",
   "metadata": {},
   "outputs": [
    {
     "data": {
      "text/html": [
       "<div>\n",
       "<style scoped>\n",
       "    .dataframe tbody tr th:only-of-type {\n",
       "        vertical-align: middle;\n",
       "    }\n",
       "\n",
       "    .dataframe tbody tr th {\n",
       "        vertical-align: top;\n",
       "    }\n",
       "\n",
       "    .dataframe thead th {\n",
       "        text-align: right;\n",
       "    }\n",
       "</style>\n",
       "<table border=\"1\" class=\"dataframe\">\n",
       "  <thead>\n",
       "    <tr style=\"text-align: right;\">\n",
       "      <th></th>\n",
       "      <th>Company</th>\n",
       "      <th>Item</th>\n",
       "      <th>Calories</th>\n",
       "      <th>Calories fromFat</th>\n",
       "      <th>Total Fat(g)</th>\n",
       "      <th>Saturated Fat(g)</th>\n",
       "      <th>Trans Fat(g)</th>\n",
       "      <th>Cholesterol(mg)</th>\n",
       "      <th>Sodium (mg)</th>\n",
       "      <th>Carbs(g)</th>\n",
       "      <th>Fiber(g)</th>\n",
       "      <th>Sugars(g)</th>\n",
       "      <th>Protein(g)</th>\n",
       "      <th>Weight WatchersPnts</th>\n",
       "    </tr>\n",
       "  </thead>\n",
       "  <tbody>\n",
       "    <tr>\n",
       "      <th>0</th>\n",
       "      <td>McDonald’s</td>\n",
       "      <td>Hamburger</td>\n",
       "      <td>250.0</td>\n",
       "      <td>80.000000</td>\n",
       "      <td>9.0</td>\n",
       "      <td>3.5</td>\n",
       "      <td>0.5</td>\n",
       "      <td>25.0</td>\n",
       "      <td>520.0</td>\n",
       "      <td>31.0</td>\n",
       "      <td>2.0</td>\n",
       "      <td>6.0</td>\n",
       "      <td>12.0</td>\n",
       "      <td>247.500000</td>\n",
       "    </tr>\n",
       "    <tr>\n",
       "      <th>1</th>\n",
       "      <td>McDonald’s</td>\n",
       "      <td>Cheeseburger</td>\n",
       "      <td>300.0</td>\n",
       "      <td>110.000000</td>\n",
       "      <td>12.0</td>\n",
       "      <td>6.0</td>\n",
       "      <td>0.5</td>\n",
       "      <td>40.0</td>\n",
       "      <td>750.0</td>\n",
       "      <td>33.0</td>\n",
       "      <td>2.0</td>\n",
       "      <td>6.0</td>\n",
       "      <td>15.0</td>\n",
       "      <td>297.000000</td>\n",
       "    </tr>\n",
       "    <tr>\n",
       "      <th>2</th>\n",
       "      <td>McDonald’s</td>\n",
       "      <td>Double Cheeseburger</td>\n",
       "      <td>440.0</td>\n",
       "      <td>210.000000</td>\n",
       "      <td>23.0</td>\n",
       "      <td>11.0</td>\n",
       "      <td>1.5</td>\n",
       "      <td>80.0</td>\n",
       "      <td>1150.0</td>\n",
       "      <td>34.0</td>\n",
       "      <td>2.0</td>\n",
       "      <td>7.0</td>\n",
       "      <td>25.0</td>\n",
       "      <td>433.000000</td>\n",
       "    </tr>\n",
       "    <tr>\n",
       "      <th>101</th>\n",
       "      <td>McDonald’s</td>\n",
       "      <td>Hamburger Happy Meal</td>\n",
       "      <td>475.0</td>\n",
       "      <td>118.033708</td>\n",
       "      <td>16.0</td>\n",
       "      <td>5.5</td>\n",
       "      <td>0.0</td>\n",
       "      <td>40.0</td>\n",
       "      <td>690.0</td>\n",
       "      <td>62.0</td>\n",
       "      <td>2.0</td>\n",
       "      <td>20.0</td>\n",
       "      <td>22.0</td>\n",
       "      <td>311.142693</td>\n",
       "    </tr>\n",
       "    <tr>\n",
       "      <th>343</th>\n",
       "      <td>Burger King</td>\n",
       "      <td>Hamburger</td>\n",
       "      <td>240.0</td>\n",
       "      <td>90.000000</td>\n",
       "      <td>10.0</td>\n",
       "      <td>3.5</td>\n",
       "      <td>0.5</td>\n",
       "      <td>35.0</td>\n",
       "      <td>380.0</td>\n",
       "      <td>26.0</td>\n",
       "      <td>1.0</td>\n",
       "      <td>6.0</td>\n",
       "      <td>13.0</td>\n",
       "      <td>237.000000</td>\n",
       "    </tr>\n",
       "  </tbody>\n",
       "</table>\n",
       "</div>"
      ],
      "text/plain": [
       "         Company                  Item  Calories  Calories fromFat  \\\n",
       "0     McDonald’s             Hamburger     250.0         80.000000   \n",
       "1     McDonald’s          Cheeseburger     300.0        110.000000   \n",
       "2     McDonald’s   Double Cheeseburger     440.0        210.000000   \n",
       "101   McDonald’s  Hamburger Happy Meal     475.0        118.033708   \n",
       "343  Burger King             Hamburger     240.0         90.000000   \n",
       "\n",
       "     Total Fat(g)  Saturated Fat(g)  Trans Fat(g)  Cholesterol(mg)  \\\n",
       "0             9.0               3.5           0.5             25.0   \n",
       "1            12.0               6.0           0.5             40.0   \n",
       "2            23.0              11.0           1.5             80.0   \n",
       "101          16.0               5.5           0.0             40.0   \n",
       "343          10.0               3.5           0.5             35.0   \n",
       "\n",
       "     Sodium (mg)  Carbs(g)  Fiber(g)  Sugars(g)  Protein(g)  \\\n",
       "0          520.0      31.0       2.0        6.0        12.0   \n",
       "1          750.0      33.0       2.0        6.0        15.0   \n",
       "2         1150.0      34.0       2.0        7.0        25.0   \n",
       "101        690.0      62.0       2.0       20.0        22.0   \n",
       "343        380.0      26.0       1.0        6.0        13.0   \n",
       "\n",
       "     Weight WatchersPnts  \n",
       "0             247.500000  \n",
       "1             297.000000  \n",
       "2             433.000000  \n",
       "101           311.142693  \n",
       "343           237.000000  "
      ]
     },
     "execution_count": 18,
     "metadata": {},
     "output_type": "execute_result"
    }
   ],
   "source": [
    "# Lấy các loại bánh mì burger và lưu vào burger_df\n",
    "burger_df =  fastfood_df[fastfood_df['Item'].str.contains('burger', case=False)]\n",
    "burger_df.head()"
   ]
  },
  {
   "cell_type": "markdown",
   "id": "3efbd2df-cecb-413c-b869-c21ebe31c0ce",
   "metadata": {},
   "source": [
    "**Bước 2:** Trực quan hóa bằng biểu đồ histogram phân phối lượng carbohydrate (Carbs) cho 2 loại bánh mì burger và sandwich trên cùng một biểu rồi nêu nhận xét."
   ]
  },
  {
   "cell_type": "code",
   "execution_count": 19,
   "id": "07964806-cb81-4c0e-b19c-8fd73a9478ae",
   "metadata": {},
   "outputs": [
    {
     "data": {
      "image/png": "[encoded data removed]",
      "text/plain": [
       "<Figure size 1200x700 with 1 Axes>"
      ]
     },
     "metadata": {},
     "output_type": "display_data"
    }
   ],
   "source": [
    "# Vẽ biểu đồ histogram phân phối lượng carbohydrate cho 2 loại bánh mì sandwich và burger\n",
    "plt.subplots(figsize=(12,7))\n",
    "plt.hist(sandwich_df['Carbs(g)'].dropna(), bins=15, density=True, edgecolor='black', alpha=0.4, label='Sandwich')\n",
    "plt.hist(burger_df['Carbs(g)'].dropna(), bins=15, density=True, edgecolor='black', alpha=0.4, label='Burger')\n",
    "\n",
    "plt.xlabel('Carbs (g)')\n",
    "plt.ylabel('Denssity')\n",
    "plt.title('Distribution of Carbs between Burger and Sandwich')\n",
    "plt.legend()\n",
    "plt.show()"
   ]
  },
  {
   "cell_type": "markdown",
   "id": "d429e7e5-2c50-437c-942d-516bb46a44f3",
   "metadata": {},
   "source": [
    "**Nhận xét về sự phân phối lượng Carbs cho 2 loại bánh mì burger và sandwich**\n",
    "\n",
    "- Từ biểu đồ ta thấy, hàm lượng Carbs của sandwich và burger nằm trong khoảng 25-60g/bánh mì.\n",
    "- Các loại sandwich có lượng Carbs phân bố chủ yếu ở mức 30-55g/sandwich. Trong đó, sandwich có lượng Carbs khoảng 50g là nhiều nhất.\n",
    "- Các loại burger có lượng Carbs phân bố chủ yếu ở mức 25-35g/burger, thấp hơn nhiều so với đa số các loại sandwich. Trong đó, burger có lượng Carbs khoảng 25-30g là nhiều nhất. Ngoài ra, một số loại burger có lượng Carbs rất lớn từ 60g trở lên."
   ]
  },
  {
   "cell_type": "markdown",
   "id": "d4bffbc8-362d-4c27-b281-3fc1fe8cff02",
   "metadata": {},
   "source": [
    "**Bước 3:** Tính tỉ lệ chất xơ, tỉ lệ đường và tỉ lệ các chất carbohydrates khác của 2 loại bánh mì theo từng cửa hàng."
   ]
  },
  {
   "cell_type": "code",
   "execution_count": 20,
   "id": "257ec103-29ac-455c-84ee-ce158d6efbc6",
   "metadata": {},
   "outputs": [],
   "source": [
    "# Hàm tính tỉ lệ chất xơ, tỉ lệ đường và tỉ lệ các chất carbs khác theo từng cửa hàng\n",
    "def calculate_fiber_sugar_ratio(df):\n",
    "    df['Fiber'] = df['Fiber(g)'] / df['Carbs(g)']\n",
    "    df['Sugar'] = df['Sugars(g)'] / df['Carbs(g)']\n",
    "    df['Other'] = 1 - df['Sugar'] - df['Fiber']\n",
    "    ratio_carbs = df.groupby('Company', observed=False)[['Fiber', 'Sugar', 'Other']].mean()\n",
    "    ratio_carbs = ratio_carbs.dropna(how='all')\n",
    "    ratio_carbs\n",
    "    return ratio_carbs\n",
    "    "
   ]
  },
  {
   "cell_type": "code",
   "execution_count": 21,
   "id": "89d28b53-fb59-4fca-a461-927e5f506e44",
   "metadata": {},
   "outputs": [
    {
     "data": {
      "text/html": [
       "<div>\n",
       "<style scoped>\n",
       "    .dataframe tbody tr th:only-of-type {\n",
       "        vertical-align: middle;\n",
       "    }\n",
       "\n",
       "    .dataframe tbody tr th {\n",
       "        vertical-align: top;\n",
       "    }\n",
       "\n",
       "    .dataframe thead th {\n",
       "        text-align: right;\n",
       "    }\n",
       "</style>\n",
       "<table border=\"1\" class=\"dataframe\">\n",
       "  <thead>\n",
       "    <tr style=\"text-align: right;\">\n",
       "      <th></th>\n",
       "      <th>Fiber</th>\n",
       "      <th>Sugar</th>\n",
       "      <th>Other</th>\n",
       "    </tr>\n",
       "    <tr>\n",
       "      <th>Company</th>\n",
       "      <th></th>\n",
       "      <th></th>\n",
       "      <th></th>\n",
       "    </tr>\n",
       "  </thead>\n",
       "  <tbody>\n",
       "    <tr>\n",
       "      <th>Burger King</th>\n",
       "      <td>0.041596</td>\n",
       "      <td>0.197886</td>\n",
       "      <td>0.760518</td>\n",
       "    </tr>\n",
       "    <tr>\n",
       "      <th>KFC</th>\n",
       "      <td>0.031291</td>\n",
       "      <td>0.175004</td>\n",
       "      <td>0.793705</td>\n",
       "    </tr>\n",
       "    <tr>\n",
       "      <th>McDonald’s</th>\n",
       "      <td>0.067652</td>\n",
       "      <td>0.192252</td>\n",
       "      <td>0.740096</td>\n",
       "    </tr>\n",
       "    <tr>\n",
       "      <th>Wendy’s</th>\n",
       "      <td>0.057649</td>\n",
       "      <td>0.151119</td>\n",
       "      <td>0.791232</td>\n",
       "    </tr>\n",
       "  </tbody>\n",
       "</table>\n",
       "</div>"
      ],
      "text/plain": [
       "                Fiber     Sugar     Other\n",
       "Company                                  \n",
       "Burger King  0.041596  0.197886  0.760518\n",
       "KFC          0.031291  0.175004  0.793705\n",
       "McDonald’s   0.067652  0.192252  0.740096\n",
       "Wendy’s      0.057649  0.151119  0.791232"
      ]
     },
     "execution_count": 21,
     "metadata": {},
     "output_type": "execute_result"
    }
   ],
   "source": [
    "# Tính tỉ lệ các chất carbs trong sandwich của từng cửa hàng\n",
    "sandwich_carbs_ratio = calculate_fiber_sugar_ratio(sandwich_df)\n",
    "sandwich_carbs_ratio"
   ]
  },
  {
   "cell_type": "code",
   "execution_count": 22,
   "id": "04444123-622f-4be0-b6d9-90fe8dd17890",
   "metadata": {},
   "outputs": [
    {
     "data": {
      "text/html": [
       "<div>\n",
       "<style scoped>\n",
       "    .dataframe tbody tr th:only-of-type {\n",
       "        vertical-align: middle;\n",
       "    }\n",
       "\n",
       "    .dataframe tbody tr th {\n",
       "        vertical-align: top;\n",
       "    }\n",
       "\n",
       "    .dataframe thead th {\n",
       "        text-align: right;\n",
       "    }\n",
       "</style>\n",
       "<table border=\"1\" class=\"dataframe\">\n",
       "  <thead>\n",
       "    <tr style=\"text-align: right;\">\n",
       "      <th></th>\n",
       "      <th>Fiber</th>\n",
       "      <th>Sugar</th>\n",
       "      <th>Other</th>\n",
       "    </tr>\n",
       "    <tr>\n",
       "      <th>Company</th>\n",
       "      <th></th>\n",
       "      <th></th>\n",
       "      <th></th>\n",
       "    </tr>\n",
       "  </thead>\n",
       "  <tbody>\n",
       "    <tr>\n",
       "      <th>Burger King</th>\n",
       "      <td>0.038502</td>\n",
       "      <td>0.242654</td>\n",
       "      <td>0.718844</td>\n",
       "    </tr>\n",
       "    <tr>\n",
       "      <th>McDonald’s</th>\n",
       "      <td>0.054051</td>\n",
       "      <td>0.225957</td>\n",
       "      <td>0.719992</td>\n",
       "    </tr>\n",
       "    <tr>\n",
       "      <th>Wendy’s</th>\n",
       "      <td>0.046840</td>\n",
       "      <td>0.219672</td>\n",
       "      <td>0.733487</td>\n",
       "    </tr>\n",
       "  </tbody>\n",
       "</table>\n",
       "</div>"
      ],
      "text/plain": [
       "                Fiber     Sugar     Other\n",
       "Company                                  \n",
       "Burger King  0.038502  0.242654  0.718844\n",
       "McDonald’s   0.054051  0.225957  0.719992\n",
       "Wendy’s      0.046840  0.219672  0.733487"
      ]
     },
     "execution_count": 22,
     "metadata": {},
     "output_type": "execute_result"
    }
   ],
   "source": [
    "# Tính tỉ lệ các chất carbs trong burger của từng cửa hàng\n",
    "burger_carbs_ratio = calculate_fiber_sugar_ratio(burger_df)\n",
    "burger_carbs_ratio"
   ]
  },
  {
   "cell_type": "markdown",
   "id": "970d5df4-ef95-41db-b390-62c5986202d7",
   "metadata": {},
   "source": [
    "**Bước 4:** Vẽ biểu đồ tròn cho biết tỉ lệ các chất carbs có trong từng loại bánh mì của mỗi cửa hàng và nêu nhận xét."
   ]
  },
  {
   "cell_type": "code",
   "execution_count": 23,
   "id": "caa654ad-a903-40c0-b43f-2ad97b5a7805",
   "metadata": {},
   "outputs": [],
   "source": [
    "# Hàm vẽ các biểu đồ tròn thể hiện tỉ lệ các chất Carbs trong bánh mì cho từng cửa hàng.\n",
    "def visualize_carbs_ratio(ratio_carbs, name_dish):\n",
    "    ratio = ratio_carbs.columns\n",
    "    company = ratio_carbs.index\n",
    "    num_pies = len(company)\n",
    "    \n",
    "    fig, axes = plt.subplots(nrows=1, ncols=num_pies, figsize=(18,num_pies+1))\n",
    "    axes = axes.flatten()\n",
    "    fig.suptitle(f\"The carbohydrate composition ratio of {name_dish} at each fast food restaurant\",  y=0.7+1/num_pies, fontsize=16)\n",
    "        \n",
    "    for i in range(len(company)):\n",
    "        sizes = ratio_carbs.loc[company[i]]\n",
    "        axes[i].pie(sizes, autopct='%1.1f%%', startangle=90)\n",
    "        axes[i].set_title(f'{company[i]}', fontsize=14)\n",
    "    \n",
    "    plt.legend(list(ratio), bbox_to_anchor=(1, 1), fontsize=14)\n",
    "    plt.show()"
   ]
  },
  {
   "cell_type": "code",
   "execution_count": 24,
   "id": "ad003147-b84f-4106-abdf-59d5eb35ef53",
   "metadata": {},
   "outputs": [
    {
     "data": {
      "image/png": "[encoded data removed]",
      "text/plain": [
       "<Figure size 1800x500 with 4 Axes>"
      ]
     },
     "metadata": {},
     "output_type": "display_data"
    }
   ],
   "source": [
    "# Biểu đồ thể hiện tỉ lệ các chất Carbs có trong sandwich theo từng cửa hàng.\n",
    "visualize_carbs_ratio(sandwich_carbs_ratio, \"sandwich\")"
   ]
  },
  {
   "cell_type": "code",
   "execution_count": 25,
   "id": "c7c775c5-091f-40a3-96df-45d2f5c0733b",
   "metadata": {},
   "outputs": [
    {
     "data": {
      "image/png": "[encoded data removed]",
      "text/plain": [
       "<Figure size 1800x400 with 3 Axes>"
      ]
     },
     "metadata": {},
     "output_type": "display_data"
    }
   ],
   "source": [
    "# Biểu đồ thể hiện tỉ lệ các chất Carbs có trong burger theo từng cửa hàng.\n",
    "visualize_carbs_ratio(burger_carbs_ratio, \"burger\")"
   ]
  },
  {
   "cell_type": "markdown",
   "id": "20efce68-1482-43ae-a747-83ff2e0ba436",
   "metadata": {},
   "source": [
    "**Nhận xét về tỉ lệ các chất Carbs có trong từng loại bánh mì của mỗi cửa hàng**\n",
    "\n",
    "**Tổng quan**\n",
    "- Có 4 cửa hàng có món sandwich là: Burger King, KFC, McDonald's và Wendy's. Trong khi đó, có 3 cửa hàng có burger là: Burger King, McDonald's và Wendy's.\n",
    "- Các loại bánh mì burger ở tất cả các cửa hàng đều có tỉ lệ lượng đường (sugar) cao hơn so với các loại sandwich.\n",
    "- Ở 3 cửa hàng là Burger King, McDonald's và Wendy's, lượng chất xơ (fiber) có trong các bánh mì burger thường có giá trị thấp hơn so với các loại sandwich của cùng một cửa hàng.\n",
    "\n",
    "**Chi tiết**\n",
    "- Đối với sandwich:\n",
    "    - Tỉ lệ lượng đường (sugar) trung bình có trong các loại sandwich của Burger King cao hơn so với tất cả các cửa hàng còn lại, Wendy's có tỉ lệ lượng đường trong sandwich thấp nhất. Tuy nhiên, tỉ lệ lượng đường trong sandwich của 3 cửa hàng Burger King, KFC, McDonald's chênh lệch nhau không đáng kể.\n",
    "    - Sandwich của KFC có tỉ lệ lượng chất xơ (fiber) thấp nhất và thấp hơn rất nhiều so với các cửa hàng còn lại, trong khi sandwich của McDonald's có tỉ lệ lượng chất xơ (fiber) cao nhất.\n",
    "    - Sandwich của Wendy's không chỉ có tỉ lệ lượng đường thấp mà tỉ lệ chất xơ còn cao thứ 2 trong tất cả các cửa hàng. Đây có thể là lựa chọn lý tưởng cho những người có chế độ ăn hạn chế đường và cần nhiều chất xơ.\n",
    " \n",
    "- Đối với burger:\n",
    "    - Tỉ lệ lượng đường (sugar) trung bình có trong các loại burger của Burger King cao nhất và Wendy's có tỉ lệ đường trong burger thấp nhất, tuy nhiên tỉ lệ lượng đường trong burger của 3 cửa hàng này chênh lệch nhau không đáng kể.\n",
    "    - Tỉ lệ chất xơ (fiber) trong burger của Burger King thấp nhất và cao nhất là của McDonald's.\n",
    " "
   ]
  },
  {
   "cell_type": "markdown",
   "id": "e02e1d03-e2bd-4b9a-aed7-81d1abd5c42d",
   "metadata": {},
   "source": [
    "#### Câu hỏi 2. Những món ăn có hàm lượng calo hoặc chất béo cao nhất, thấp nhất và mối quan hệ giữa chúng?\n",
    "\n",
    "- **Ý nghĩa khi trả lời câu hỏi**: phân tích này giúp xác định các món ăn \"nặng\" và \"nhẹ\" nhất về mặt năng lượng và chất béo, hữu ích cho việc lựa chọn thực phẩm dựa trên mục tiêu dinh dưỡng cá nhân (ví dụ: giảm cân, tăng cân, chế độ ăn ít chất béo). Hữu ích cho những người đang theo dõi lượng calo và chất béo trong chế độ ăn uống của mình. Nó cung cấp cái nhìn tổng quan về cách thức lượng chất béo ảnh hưởng đến lượng calo, giúp họ lựa chọn các món ăn phù hợp với mục tiêu dinh dưỡng của mình."
   ]
  },
  {
   "cell_type": "markdown",
   "id": "1169284a-960a-4884-b2d9-d65eb85d55f2",
   "metadata": {},
   "source": [
    "**Mối quan hệ giữa calo và chất béo:**\n",
    "- **Ý Nghĩa**: phân tích này giúp hiểu rõ mối quan hệ giữa lượng calo và chất béo trong các món ăn. Việc này có thể tiết lộ liệu chất béo có phải là nguồn chính của calo trong thực phẩm hay không."
   ]
  },
  {
   "cell_type": "code",
   "execution_count": 26,
   "id": "62102d77-c960-448b-9a06-f2faa386559f",
   "metadata": {},
   "outputs": [
    {
     "data": {
      "text/plain": [
       "{'Highest Calorie Item':                                      Item  Calories\n",
       " 334  Triple Whopper® Sandwich with Cheese    1220.0,\n",
       " 'Lowest Calorie Item':            Item  Calories\n",
       " 38  Salt Packet       0.0,\n",
       " 'Highest Fat Item':                       Item  Total Fat(g)\n",
       " 730  Potato Salad (Family)          98.0,\n",
       " 'Lowest Fat Item':               Item  Total Fat(g)\n",
       " 37  Ketchup Packet           0.0}"
      ]
     },
     "execution_count": 26,
     "metadata": {},
     "output_type": "execute_result"
    }
   ],
   "source": [
    "# Identifying the items with the highest and lowest calorie and fat content\n",
    "highest_calories = fastfood_df.nlargest(1, 'Calories')\n",
    "lowest_calories = fastfood_df.nsmallest(1, 'Calories')\n",
    "highest_fat = fastfood_df.nlargest(1, 'Total Fat(g)')\n",
    "lowest_fat = fastfood_df.nsmallest(1, 'Total Fat(g)')\n",
    "\n",
    "# Compile the results\n",
    "extreme_values = {\n",
    "    \"Highest Calorie Item\": highest_calories[['Item', 'Calories']],\n",
    "    \"Lowest Calorie Item\": lowest_calories[['Item', 'Calories']],\n",
    "    \"Highest Fat Item\": highest_fat[['Item', 'Total Fat(g)']],\n",
    "    \"Lowest Fat Item\": lowest_fat[['Item', 'Total Fat(g)']]\n",
    "}\n",
    "\n",
    "extreme_values"
   ]
  },
  {
   "cell_type": "code",
   "execution_count": 27,
   "id": "8bf2237b-9229-408c-a969-2760d1f06cec",
   "metadata": {},
   "outputs": [
    {
     "data": {
      "image/png": "[encoded data removed]",
      "text/plain": [
       "<Figure size 1000x600 with 1 Axes>"
      ]
     },
     "metadata": {},
     "output_type": "display_data"
    }
   ],
   "source": [
    "# scatter plot of calories vs. fat\n",
    "plt.figure(figsize=(10, 6))\n",
    "plt.scatter(fastfood_df['Total Fat(g)'], fastfood_df['Calories'], marker='x', color='red')\n",
    "plt.xlabel('Calories')\n",
    "plt.ylabel('Total Fat(g)')\n",
    "plt.title('Calories vs. Total Fat(g)')\n",
    "plt.show()"
   ]
  },
  {
   "cell_type": "markdown",
   "id": "549132e3-bdbc-442c-a636-6a004265e41b",
   "metadata": {},
   "source": [
    "**Nhận xét:** có xu hướng tăng dần khi lượng chất béo tăng, lượng calo cũng có xu hướng tăng theo. Điều này có nghĩa là các món ăn có nhiều chất béo thường chứa nhiều calo hơn.\n",
    "\n",
    "Mối quan hệ không hoàn toàn tuyến tính: mặc dù có xu hướng tăng, nhưng mối quan hệ giữa chất béo và calo không hoàn toàn tuyến tính. Điều này cho thấy có các yếu tố khác cũng đóng góp vào lượng calo của món ăn (ví dụ: carbs, protein)."
   ]
  },
  {
   "cell_type": "markdown",
   "id": "1c15f815-05fc-4d80-8fbf-f8de2e028554",
   "metadata": {},
   "source": [
    "#### Câu hỏi 3. Những món ăn có điểm Weight Watchers thấp?\n",
    "\n",
    "**Mục tiêu chính:** tìm ra những món ăn có số điểm Weight Watchers thấp, được coi là lựa chọn tốt cho việc giảm cân. Điểm Weight Watchers thấp thường chỉ ra rằng món ăn có ít calo, ít chất béo và đường, và/hoặc nhiều chất xơ.\n",
    "\n",
    "**So sánh điểm Weight Watchers giữa các công ty hoặc loại món ăn:**\n",
    "\n",
    "**Ý Nghĩa:** giúp so sánh lựa chọn thực phẩm giữa các công ty khác nhau từ góc độ giảm cân và sức khỏe. Điều này hữu ích cho những người theo dõi chế độ ăn kiêng và muốn lựa chọn thực phẩm tốt cho sức khỏe."
   ]
  },
  {
   "cell_type": "code",
   "execution_count": 28,
   "id": "66ed5e5c-1810-4d9d-87e0-addaa20e7506",
   "metadata": {},
   "outputs": [
    {
     "data": {
      "image/png": "[encoded data removed]",
      "text/plain": [
       "<Figure size 1200x600 with 1 Axes>"
      ]
     },
     "metadata": {},
     "output_type": "display_data"
    },
    {
     "data": {
      "text/plain": [
       "(        Company                 Item  Weight WatchersPnts\n",
       " 38   McDonald’s          Salt Packet                  0.0\n",
       " 147  McDonald’s        Dasani® Water                  0.0\n",
       " 155  McDonald’s   Diet Coke® (Child)                  0.0\n",
       " 156  McDonald’s   Diet Coke® (Small)                  0.0\n",
       " 157  McDonald’s  Diet Coke® (Medium)                  0.0,\n",
       " Company\n",
       " KFC            234.901376\n",
       " McDonald’s     306.469293\n",
       " Pizza Hut      311.142693\n",
       " Taco Bell      311.142693\n",
       " Wendy’s        342.850649\n",
       " Burger King    383.658850\n",
       " Name: Weight WatchersPnts, dtype: float64)"
      ]
     },
     "execution_count": 28,
     "metadata": {},
     "output_type": "execute_result"
    }
   ],
   "source": [
    "# Find items with the lowest Weight Watchers points\n",
    "lowest_ww_points = fastfood_df.nsmallest(5, 'Weight WatchersPnts')[['Company', 'Item', 'Weight WatchersPnts']]\n",
    "\n",
    "# Now let's calculate the average Weight Watchers points for each company\n",
    "average_ww_points_per_company = fastfood_df.groupby('Company')['Weight WatchersPnts'].mean().sort_values()\n",
    "\n",
    "# Preparing for visualization\n",
    "companies = average_ww_points_per_company.index.tolist()\n",
    "average_points = average_ww_points_per_company.values\n",
    "\n",
    "# Create bar chart for the average Weight Watchers points per company\n",
    "plt.figure(figsize=(12, 6))\n",
    "sns.barplot(x=average_points, y=companies)\n",
    "plt.title('Average Weight Watchers Points per Company')\n",
    "plt.xlabel('Average Weight Watchers Points')\n",
    "plt.ylabel('Company')\n",
    "\n",
    "# Show the plot\n",
    "plt.show()\n",
    "\n",
    "lowest_ww_points, average_ww_points_per_company"
   ]
  },
  {
   "cell_type": "markdown",
   "id": "c11060d7-9266-4f48-85bc-0c4d148e3ed7",
   "metadata": {},
   "source": [
    "**Nhận xét các món ăn có điểm Weight Watchers thấp nhất::**\n",
    "\n",
    "Một số món ăn từ McDonald’s như \"Salt Packet\", \"Dasani® Water\", \"Diet Coke® (Child)\", \"Diet Coke® (Small)\", và \"Diet Coke® (Medium)\" đều có 0 điểm Weight Watchers, làm chúng trở thành lựa chọn tốt cho việc giảm cân.\n",
    "\n",
    "\n",
    "**So sánh điểm Weight Watchers trung bình giữa các công ty:**\n",
    "\n",
    "KFC có điểm Weight Watchers trung bình thấp nhất, theo sau là McDonald’s và Wendy’s.\n",
    "Tiếp đến là Pizza Hut và Taco Bell điểm trung bình khá bằng nhau.\n",
    "Burger King có điểm trung bình cao hơn so với các công ty khác.\n",
    "\n",
    "Phân tích này giúp những người theo dõi chế độ ăn kiêng Weight Watchers hoặc những người quan tâm đến việc giảm cân và duy trì sức khỏe hiểu rõ hơn về lựa chọn thực phẩm tại các chuỗi nhà hàng nhanh. Nó cung cấp cái nhìn sâu sắc về việc chọn thực phẩm ít calo, ít chất béo và đường, nhưng giàu chất xơ, từ các chuỗi cửa hàng này. ​"
   ]
  },
  {
   "cell_type": "markdown",
   "id": "cf7b1712",
   "metadata": {},
   "source": [
    "#### Câu 4: Các yếu tố chất béo có mối liên hệ như thế nào đến các thành phần dinh dưỡng khác?"
   ]
  },
  {
   "cell_type": "markdown",
   "id": "07c99b07",
   "metadata": {},
   "source": [
    "**Ý nghĩa khi trả lời câu hỏi:** \n",
    "- Giúp ta có cái nhìn tổng quan về mối liên hệ giữa các yếu tố về chất béo `Total Fat(g)`, `Saturated Fat(g)`, `Trans Fat(g)` và các yếu tố còn lại. Từ đó, ta sẽ biết được liệu trong một món đồ ăn nhanh ngoài các yếu tố chất béo như ta đã biết thì có còn những yếu tố dinh dưỡng khác hay không?\n",
    "\n",
    "**Các bước cần làm để để trả lời câu hỏi:**\n",
    "- Bước 1: Ta sẽ tiến hành tiến hành tính toán ma trận tương quan và lưu vào `correlation_matrix`\n",
    "- Bước 2: Trực quan hóa ma trận tương quan bằng `heatmap`.\n",
    "- Bước 3: Phân tích và nhận xét."
   ]
  },
  {
   "cell_type": "markdown",
   "id": "ff734b2d",
   "metadata": {},
   "source": [
    "**Bước 1**: Ta sẽ tiến hành tiến hành tính toán ma trận tương quan và lưu vào `correlation_matrix`"
   ]
  },
  {
   "cell_type": "code",
   "execution_count": 29,
   "id": "5697b31b",
   "metadata": {},
   "outputs": [
    {
     "data": {
      "text/html": [
       "<div>\n",
       "<style scoped>\n",
       "    .dataframe tbody tr th:only-of-type {\n",
       "        vertical-align: middle;\n",
       "    }\n",
       "\n",
       "    .dataframe tbody tr th {\n",
       "        vertical-align: top;\n",
       "    }\n",
       "\n",
       "    .dataframe thead th {\n",
       "        text-align: right;\n",
       "    }\n",
       "</style>\n",
       "<table border=\"1\" class=\"dataframe\">\n",
       "  <thead>\n",
       "    <tr style=\"text-align: right;\">\n",
       "      <th></th>\n",
       "      <th>Total Fat(g)</th>\n",
       "      <th>Saturated Fat(g)</th>\n",
       "      <th>Trans Fat(g)</th>\n",
       "      <th>Calories</th>\n",
       "      <th>Protein(g)</th>\n",
       "      <th>Carbs(g)</th>\n",
       "      <th>Fiber(g)</th>\n",
       "      <th>Sugars(g)</th>\n",
       "    </tr>\n",
       "  </thead>\n",
       "  <tbody>\n",
       "    <tr>\n",
       "      <th>Total Fat(g)</th>\n",
       "      <td>1.000000</td>\n",
       "      <td>0.882870</td>\n",
       "      <td>0.552322</td>\n",
       "      <td>0.825314</td>\n",
       "      <td>0.806674</td>\n",
       "      <td>0.186517</td>\n",
       "      <td>0.460858</td>\n",
       "      <td>-0.229341</td>\n",
       "    </tr>\n",
       "    <tr>\n",
       "      <th>Saturated Fat(g)</th>\n",
       "      <td>0.882870</td>\n",
       "      <td>1.000000</td>\n",
       "      <td>0.674849</td>\n",
       "      <td>0.790270</td>\n",
       "      <td>0.768492</td>\n",
       "      <td>0.255572</td>\n",
       "      <td>0.318833</td>\n",
       "      <td>-0.085625</td>\n",
       "    </tr>\n",
       "    <tr>\n",
       "      <th>Trans Fat(g)</th>\n",
       "      <td>0.552322</td>\n",
       "      <td>0.674849</td>\n",
       "      <td>1.000000</td>\n",
       "      <td>0.547179</td>\n",
       "      <td>0.587201</td>\n",
       "      <td>0.225108</td>\n",
       "      <td>0.067477</td>\n",
       "      <td>0.080753</td>\n",
       "    </tr>\n",
       "    <tr>\n",
       "      <th>Calories</th>\n",
       "      <td>0.825314</td>\n",
       "      <td>0.790270</td>\n",
       "      <td>0.547179</td>\n",
       "      <td>1.000000</td>\n",
       "      <td>0.729159</td>\n",
       "      <td>0.660173</td>\n",
       "      <td>0.459712</td>\n",
       "      <td>0.256087</td>\n",
       "    </tr>\n",
       "    <tr>\n",
       "      <th>Protein(g)</th>\n",
       "      <td>0.806674</td>\n",
       "      <td>0.768492</td>\n",
       "      <td>0.587201</td>\n",
       "      <td>0.729159</td>\n",
       "      <td>1.000000</td>\n",
       "      <td>0.140916</td>\n",
       "      <td>0.433880</td>\n",
       "      <td>-0.224809</td>\n",
       "    </tr>\n",
       "    <tr>\n",
       "      <th>Carbs(g)</th>\n",
       "      <td>0.186517</td>\n",
       "      <td>0.255572</td>\n",
       "      <td>0.225108</td>\n",
       "      <td>0.660173</td>\n",
       "      <td>0.140916</td>\n",
       "      <td>1.000000</td>\n",
       "      <td>0.199441</td>\n",
       "      <td>0.787281</td>\n",
       "    </tr>\n",
       "    <tr>\n",
       "      <th>Fiber(g)</th>\n",
       "      <td>0.460858</td>\n",
       "      <td>0.318833</td>\n",
       "      <td>0.067477</td>\n",
       "      <td>0.459712</td>\n",
       "      <td>0.433880</td>\n",
       "      <td>0.199441</td>\n",
       "      <td>1.000000</td>\n",
       "      <td>-0.245390</td>\n",
       "    </tr>\n",
       "    <tr>\n",
       "      <th>Sugars(g)</th>\n",
       "      <td>-0.229341</td>\n",
       "      <td>-0.085625</td>\n",
       "      <td>0.080753</td>\n",
       "      <td>0.256087</td>\n",
       "      <td>-0.224809</td>\n",
       "      <td>0.787281</td>\n",
       "      <td>-0.245390</td>\n",
       "      <td>1.000000</td>\n",
       "    </tr>\n",
       "  </tbody>\n",
       "</table>\n",
       "</div>"
      ],
      "text/plain": [
       "                  Total Fat(g)  Saturated Fat(g)  Trans Fat(g)  Calories  \\\n",
       "Total Fat(g)          1.000000          0.882870      0.552322  0.825314   \n",
       "Saturated Fat(g)      0.882870          1.000000      0.674849  0.790270   \n",
       "Trans Fat(g)          0.552322          0.674849      1.000000  0.547179   \n",
       "Calories              0.825314          0.790270      0.547179  1.000000   \n",
       "Protein(g)            0.806674          0.768492      0.587201  0.729159   \n",
       "Carbs(g)              0.186517          0.255572      0.225108  0.660173   \n",
       "Fiber(g)              0.460858          0.318833      0.067477  0.459712   \n",
       "Sugars(g)            -0.229341         -0.085625      0.080753  0.256087   \n",
       "\n",
       "                  Protein(g)  Carbs(g)  Fiber(g)  Sugars(g)  \n",
       "Total Fat(g)        0.806674  0.186517  0.460858  -0.229341  \n",
       "Saturated Fat(g)    0.768492  0.255572  0.318833  -0.085625  \n",
       "Trans Fat(g)        0.587201  0.225108  0.067477   0.080753  \n",
       "Calories            0.729159  0.660173  0.459712   0.256087  \n",
       "Protein(g)          1.000000  0.140916  0.433880  -0.224809  \n",
       "Carbs(g)            0.140916  1.000000  0.199441   0.787281  \n",
       "Fiber(g)            0.433880  0.199441  1.000000  -0.245390  \n",
       "Sugars(g)          -0.224809  0.787281 -0.245390   1.000000  "
      ]
     },
     "execution_count": 29,
     "metadata": {},
     "output_type": "execute_result"
    }
   ],
   "source": [
    "# Tính toán ma trận tương quan\n",
    "correlation_matrix = fastfood_df[['Total Fat(g)', 'Saturated Fat(g)', 'Trans Fat(g)', 'Calories', 'Protein(g)', 'Carbs(g)', 'Fiber(g)', 'Sugars(g)']].corr()\n",
    "correlation_matrix"
   ]
  },
  {
   "cell_type": "markdown",
   "id": "84b5f36c",
   "metadata": {},
   "source": [
    "**Bước 2**: Trực quan hóa ma trận tương quan bằng `heatmap`."
   ]
  },
  {
   "cell_type": "code",
   "execution_count": 35,
   "id": "4a9a10ae",
   "metadata": {},
   "outputs": [
    {
     "data": {
      "image/png": "[encoded data removed]",
      "text/plain": [
       "<Figure size 1000x800 with 2 Axes>"
      ]
     },
     "metadata": {},
     "output_type": "display_data"
    }
   ],
   "source": [
    "# Hiển thị ma trận tương quan bằng heatmap\n",
    "plt.figure(figsize=(10, 8))\n",
    "sns.heatmap(correlation_matrix, annoTrue,),, cmap='coolwarm', fmt='.2f', linewidths=.5)\n",
    "plt.title('Biểu Đồ thể hiện mối liên hệ giữa lượng chất béo và yếu tố dinh dưỡng')\n",
    "plt.show()"
   ]
  },
  {
   "cell_type": "markdown",
   "id": "1ccb5e1b",
   "metadata": {},
   "source": [
    "**Bước 3:** Phân tích và nhận xét"
   ]
  },
  {
   "cell_type": "markdown",
   "id": "75b1a2ab",
   "metadata": {},
   "source": [
    "- `Saturated Fat(g)` và `Total Fat(g)` có hệ số tương quan khá cao (0.88) cho thấy hai đại lượng này có mối liên hệ chặt chẽ với nhau. Nó biểu thị `Saturated Fat(g)` đóng góp quan trọng vào chỉ số `Total Fat(g)`.\n",
    "- Hệ số tương quan giữa `Total Fat(g)` với `Calories` và `Protein` cũng ở mức cao (0.83 và 0.81). Điều này cho thấy món ăn nhanh có hàm lượng chất béo càng cao thì càng cung cấp cho cơ thể nhiều năng lượng và chứa nhiều protein. Ngoài ra, hệ số tương quan giữa `Total Fat(g)` và `Sugars(g)` là số âm chỉ ra lượng đường có xu hướng giảm khi lượng chất béo tăng.\n",
    "- `Calories` có mối quan hệ dương với `Protein(g)` (0.73) và `Carbs(g)` (0.66), cho thấy lượng protein và carbohydrates đóng góp nhiều vào lượng calo.\n",
    "- `Sugars(g)` có hệ số tương quan lớn với `Carbs(g)` (0.79), chỉ ra rằng đường thường xuất hiện trong thực phẩm giàu carbohydrates. Tuy nhiên, hệ số tương quan giữa `Sugars(g)` với các yếu tố về chất béo thường ở mức thấp hoặc ở mức âm chỉ ra lượng đường có xu hướng giảm khi lượng chất béo tăng.\n",
    "- Mối quan hệ âm giữa `Fiber(g)` và `Sugars(g)` là một điểm quan trọng. Sự tương quan âm (-0.25) chỉ ra rằng mức độ chất xơ thường giảm khi lượng đường tăng. Bên cạnh đó hàm lượng chất xơ cũng ít chịu ảnh hưởng bởi các yếu tố khác khi hệ số tương quan luôn nằm ở mức thấp."
   ]
  },
  {
   "cell_type": "markdown",
   "id": "2bdf4881-5a9d-47c0-b0d7-87dcfd9be2fe",
   "metadata": {},
   "source": [
    "# Tự đánh giá "
   ]
  },
  {
   "cell_type": "markdown",
   "id": "fbe25dfe-69ba-4f36-bfa5-e43656b25d4c",
   "metadata": {},
   "source": [
    "|<center><div style=\"width:150px\">MSSV</div>|<div style=\"width:250px\">Khó khăn</div>|<div style=\"width:250px\">Bài học </div>|\n",
    "|---------- |:-------------:|:-------------:|\n",
    "| <center>Trần Thái Vỹ |<left> Code chưa thực sự tối ưu.<br> Vẽ biểu đồ chưa đẹp.<br>| Học thêm nhiều phương thức giúp code tối ưu hơn <br>và trực quan hóa dữ liệu đẹp hơn<br>|\n",
    "| <center>Nguyễn Hoài An |<left> Code còn hơi dài và chưa thực sự tối ưu.<br>| Học thêm nhiều phương thức giúp code tối ưu hơn. <br>|\n",
    "| <center>Nguyễn Văn Phúc |<left> Sử dụng Github còn gặp một số chưa thành thạo.<br>Phần đặt câu hỏi và trả lời chưa được tốt như mong muốn.<br>| Nhận ra ưu điểm của github trong việc cộng tác nhóm.<br>Biết cách đặt những câu hỏi có ý nghĩa|\n",
    "\n",
    "**Nếu có nhiều thời gian hơn, nhóm em sẽ:**\n",
    "- Tổ chức nhiều buổi họp hơn để cùng thảo luận, tìm hiểu sâu hơn về thông tin dữ liệu mà nhóm thu thập\n",
    "- Đưa ra thêm các câu hỏi mang tính ý nghĩa, sâu sắc hơn nhằm khai thác nhiều hơn những thông tin mà dữ liệu mang lại.\n",
    "- Viết code ngắn gọn và đơn giản nhất có thể.\n",
    "- Học thêm nhiều các trực quan hóa dữ liệu.\n",
    "- Hoàn thiện hơn về mặt nội dung và thẩm mỹ."
   ]
  },
  {
   "cell_type": "markdown",
   "id": "750c5edc-2f15-4f5b-bee1-76ec35348997",
   "metadata": {},
   "source": [
    "# Tài liệu tham khảo"
   ]
  },
  {
   "cell_type": "markdown",
   "id": "d94c2f6a-02fb-4d08-820d-f381ac107313",
   "metadata": {},
   "source": [
    "- Nguyễn Trọng Nghĩa, (2023), [Slide bài giảng Lập trình khoa học dữ](https://drive.google.com/drive/folders/1FyzNTCs_xpx-CUVBw_VwXlEt73tf8ywX)\n",
    "- [Food Nutrition Data](https://www.nutrition-charts.com/)."
   ]
  },
  {
   "cell_type": "code",
   "execution_count": null,
   "id": "49ddf358-62ee-4210-9d39-79517627a89d",
   "metadata": {},
   "outputs": [],
   "source": []
  }
 ],
 "metadata": {
  "kernelspec": {
   "display_name": "Python 3 (ipykernel)",
   "language": "python",
   "name": "python3"
  },
  "language_info": {
   "codemirror_mode": {
    "name": "ipython",
    "version": 3
   },
   "file_extension": ".py",
   "mimetype": "text/x-python",
   "name": "python",
   "nbconvert_exporter": "python",
   "pygments_lexer": "ipython3",
   "version": "3.11.5"
  }
 },
 "nbformat": 4,
 "nbformat_minor": 5
}
